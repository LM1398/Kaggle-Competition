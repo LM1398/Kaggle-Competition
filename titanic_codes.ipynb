{
 "cells": [
  {
   "cell_type": "markdown",
   "id": "b4908ca3-9396-493f-9445-0f447b772528",
   "metadata": {},
   "source": [
    "# Code for estimating survival on Titanic (Kaggle Competition)"
   ]
  },
  {
   "cell_type": "code",
   "execution_count": 1,
   "id": "eb1e1553-a2f2-473d-8e7d-ecf651773766",
   "metadata": {},
   "outputs": [],
   "source": [
    "import numpy as np\n",
    "import pandas as pd\n",
    "import matplotlib.pyplot as plt\n",
    "import seaborn as sns"
   ]
  },
  {
   "cell_type": "code",
   "execution_count": 2,
   "id": "8fb12961-b6de-49d4-b924-3a35e9542475",
   "metadata": {},
   "outputs": [],
   "source": [
    "train = pd.read_csv(\"~/samurai/kaggle/titanic/data/train.csv\")\n",
    "test = pd.read_csv(\"~/samurai/kaggle/titanic/data/test.csv\")"
   ]
  },
  {
   "cell_type": "code",
   "execution_count": 3,
   "id": "67fded40-d79e-4fa1-ad28-22048e925e54",
   "metadata": {},
   "outputs": [
    {
     "data": {
      "text/html": [
       "<div>\n",
       "<style scoped>\n",
       "    .dataframe tbody tr th:only-of-type {\n",
       "        vertical-align: middle;\n",
       "    }\n",
       "\n",
       "    .dataframe tbody tr th {\n",
       "        vertical-align: top;\n",
       "    }\n",
       "\n",
       "    .dataframe thead th {\n",
       "        text-align: right;\n",
       "    }\n",
       "</style>\n",
       "<table border=\"1\" class=\"dataframe\">\n",
       "  <thead>\n",
       "    <tr style=\"text-align: right;\">\n",
       "      <th></th>\n",
       "      <th>PassengerId</th>\n",
       "      <th>Survived</th>\n",
       "      <th>Pclass</th>\n",
       "      <th>Name</th>\n",
       "      <th>Sex</th>\n",
       "      <th>Age</th>\n",
       "      <th>SibSp</th>\n",
       "      <th>Parch</th>\n",
       "      <th>Ticket</th>\n",
       "      <th>Fare</th>\n",
       "      <th>Cabin</th>\n",
       "      <th>Embarked</th>\n",
       "    </tr>\n",
       "  </thead>\n",
       "  <tbody>\n",
       "    <tr>\n",
       "      <th>0</th>\n",
       "      <td>1</td>\n",
       "      <td>0</td>\n",
       "      <td>3</td>\n",
       "      <td>Braund, Mr. Owen Harris</td>\n",
       "      <td>male</td>\n",
       "      <td>22.0</td>\n",
       "      <td>1</td>\n",
       "      <td>0</td>\n",
       "      <td>A/5 21171</td>\n",
       "      <td>7.2500</td>\n",
       "      <td>NaN</td>\n",
       "      <td>S</td>\n",
       "    </tr>\n",
       "    <tr>\n",
       "      <th>1</th>\n",
       "      <td>2</td>\n",
       "      <td>1</td>\n",
       "      <td>1</td>\n",
       "      <td>Cumings, Mrs. John Bradley (Florence Briggs Th...</td>\n",
       "      <td>female</td>\n",
       "      <td>38.0</td>\n",
       "      <td>1</td>\n",
       "      <td>0</td>\n",
       "      <td>PC 17599</td>\n",
       "      <td>71.2833</td>\n",
       "      <td>C85</td>\n",
       "      <td>C</td>\n",
       "    </tr>\n",
       "    <tr>\n",
       "      <th>2</th>\n",
       "      <td>3</td>\n",
       "      <td>1</td>\n",
       "      <td>3</td>\n",
       "      <td>Heikkinen, Miss. Laina</td>\n",
       "      <td>female</td>\n",
       "      <td>26.0</td>\n",
       "      <td>0</td>\n",
       "      <td>0</td>\n",
       "      <td>STON/O2. 3101282</td>\n",
       "      <td>7.9250</td>\n",
       "      <td>NaN</td>\n",
       "      <td>S</td>\n",
       "    </tr>\n",
       "    <tr>\n",
       "      <th>3</th>\n",
       "      <td>4</td>\n",
       "      <td>1</td>\n",
       "      <td>1</td>\n",
       "      <td>Futrelle, Mrs. Jacques Heath (Lily May Peel)</td>\n",
       "      <td>female</td>\n",
       "      <td>35.0</td>\n",
       "      <td>1</td>\n",
       "      <td>0</td>\n",
       "      <td>113803</td>\n",
       "      <td>53.1000</td>\n",
       "      <td>C123</td>\n",
       "      <td>S</td>\n",
       "    </tr>\n",
       "    <tr>\n",
       "      <th>4</th>\n",
       "      <td>5</td>\n",
       "      <td>0</td>\n",
       "      <td>3</td>\n",
       "      <td>Allen, Mr. William Henry</td>\n",
       "      <td>male</td>\n",
       "      <td>35.0</td>\n",
       "      <td>0</td>\n",
       "      <td>0</td>\n",
       "      <td>373450</td>\n",
       "      <td>8.0500</td>\n",
       "      <td>NaN</td>\n",
       "      <td>S</td>\n",
       "    </tr>\n",
       "    <tr>\n",
       "      <th>...</th>\n",
       "      <td>...</td>\n",
       "      <td>...</td>\n",
       "      <td>...</td>\n",
       "      <td>...</td>\n",
       "      <td>...</td>\n",
       "      <td>...</td>\n",
       "      <td>...</td>\n",
       "      <td>...</td>\n",
       "      <td>...</td>\n",
       "      <td>...</td>\n",
       "      <td>...</td>\n",
       "      <td>...</td>\n",
       "    </tr>\n",
       "    <tr>\n",
       "      <th>886</th>\n",
       "      <td>887</td>\n",
       "      <td>0</td>\n",
       "      <td>2</td>\n",
       "      <td>Montvila, Rev. Juozas</td>\n",
       "      <td>male</td>\n",
       "      <td>27.0</td>\n",
       "      <td>0</td>\n",
       "      <td>0</td>\n",
       "      <td>211536</td>\n",
       "      <td>13.0000</td>\n",
       "      <td>NaN</td>\n",
       "      <td>S</td>\n",
       "    </tr>\n",
       "    <tr>\n",
       "      <th>887</th>\n",
       "      <td>888</td>\n",
       "      <td>1</td>\n",
       "      <td>1</td>\n",
       "      <td>Graham, Miss. Margaret Edith</td>\n",
       "      <td>female</td>\n",
       "      <td>19.0</td>\n",
       "      <td>0</td>\n",
       "      <td>0</td>\n",
       "      <td>112053</td>\n",
       "      <td>30.0000</td>\n",
       "      <td>B42</td>\n",
       "      <td>S</td>\n",
       "    </tr>\n",
       "    <tr>\n",
       "      <th>888</th>\n",
       "      <td>889</td>\n",
       "      <td>0</td>\n",
       "      <td>3</td>\n",
       "      <td>Johnston, Miss. Catherine Helen \"Carrie\"</td>\n",
       "      <td>female</td>\n",
       "      <td>NaN</td>\n",
       "      <td>1</td>\n",
       "      <td>2</td>\n",
       "      <td>W./C. 6607</td>\n",
       "      <td>23.4500</td>\n",
       "      <td>NaN</td>\n",
       "      <td>S</td>\n",
       "    </tr>\n",
       "    <tr>\n",
       "      <th>889</th>\n",
       "      <td>890</td>\n",
       "      <td>1</td>\n",
       "      <td>1</td>\n",
       "      <td>Behr, Mr. Karl Howell</td>\n",
       "      <td>male</td>\n",
       "      <td>26.0</td>\n",
       "      <td>0</td>\n",
       "      <td>0</td>\n",
       "      <td>111369</td>\n",
       "      <td>30.0000</td>\n",
       "      <td>C148</td>\n",
       "      <td>C</td>\n",
       "    </tr>\n",
       "    <tr>\n",
       "      <th>890</th>\n",
       "      <td>891</td>\n",
       "      <td>0</td>\n",
       "      <td>3</td>\n",
       "      <td>Dooley, Mr. Patrick</td>\n",
       "      <td>male</td>\n",
       "      <td>32.0</td>\n",
       "      <td>0</td>\n",
       "      <td>0</td>\n",
       "      <td>370376</td>\n",
       "      <td>7.7500</td>\n",
       "      <td>NaN</td>\n",
       "      <td>Q</td>\n",
       "    </tr>\n",
       "  </tbody>\n",
       "</table>\n",
       "<p>891 rows × 12 columns</p>\n",
       "</div>"
      ],
      "text/plain": [
       "     PassengerId  Survived  Pclass  \\\n",
       "0              1         0       3   \n",
       "1              2         1       1   \n",
       "2              3         1       3   \n",
       "3              4         1       1   \n",
       "4              5         0       3   \n",
       "..           ...       ...     ...   \n",
       "886          887         0       2   \n",
       "887          888         1       1   \n",
       "888          889         0       3   \n",
       "889          890         1       1   \n",
       "890          891         0       3   \n",
       "\n",
       "                                                  Name     Sex   Age  SibSp  \\\n",
       "0                              Braund, Mr. Owen Harris    male  22.0      1   \n",
       "1    Cumings, Mrs. John Bradley (Florence Briggs Th...  female  38.0      1   \n",
       "2                               Heikkinen, Miss. Laina  female  26.0      0   \n",
       "3         Futrelle, Mrs. Jacques Heath (Lily May Peel)  female  35.0      1   \n",
       "4                             Allen, Mr. William Henry    male  35.0      0   \n",
       "..                                                 ...     ...   ...    ...   \n",
       "886                              Montvila, Rev. Juozas    male  27.0      0   \n",
       "887                       Graham, Miss. Margaret Edith  female  19.0      0   \n",
       "888           Johnston, Miss. Catherine Helen \"Carrie\"  female   NaN      1   \n",
       "889                              Behr, Mr. Karl Howell    male  26.0      0   \n",
       "890                                Dooley, Mr. Patrick    male  32.0      0   \n",
       "\n",
       "     Parch            Ticket     Fare Cabin Embarked  \n",
       "0        0         A/5 21171   7.2500   NaN        S  \n",
       "1        0          PC 17599  71.2833   C85        C  \n",
       "2        0  STON/O2. 3101282   7.9250   NaN        S  \n",
       "3        0            113803  53.1000  C123        S  \n",
       "4        0            373450   8.0500   NaN        S  \n",
       "..     ...               ...      ...   ...      ...  \n",
       "886      0            211536  13.0000   NaN        S  \n",
       "887      0            112053  30.0000   B42        S  \n",
       "888      2        W./C. 6607  23.4500   NaN        S  \n",
       "889      0            111369  30.0000  C148        C  \n",
       "890      0            370376   7.7500   NaN        Q  \n",
       "\n",
       "[891 rows x 12 columns]"
      ]
     },
     "execution_count": 3,
     "metadata": {},
     "output_type": "execute_result"
    }
   ],
   "source": [
    "train"
   ]
  },
  {
   "cell_type": "code",
   "execution_count": 4,
   "id": "d84ab313-f43e-4cbe-be20-096d94354b58",
   "metadata": {},
   "outputs": [
    {
     "data": {
      "text/html": [
       "<div>\n",
       "<style scoped>\n",
       "    .dataframe tbody tr th:only-of-type {\n",
       "        vertical-align: middle;\n",
       "    }\n",
       "\n",
       "    .dataframe tbody tr th {\n",
       "        vertical-align: top;\n",
       "    }\n",
       "\n",
       "    .dataframe thead th {\n",
       "        text-align: right;\n",
       "    }\n",
       "</style>\n",
       "<table border=\"1\" class=\"dataframe\">\n",
       "  <thead>\n",
       "    <tr style=\"text-align: right;\">\n",
       "      <th></th>\n",
       "      <th>PassengerId</th>\n",
       "      <th>Pclass</th>\n",
       "      <th>Name</th>\n",
       "      <th>Sex</th>\n",
       "      <th>Age</th>\n",
       "      <th>SibSp</th>\n",
       "      <th>Parch</th>\n",
       "      <th>Ticket</th>\n",
       "      <th>Fare</th>\n",
       "      <th>Cabin</th>\n",
       "      <th>Embarked</th>\n",
       "    </tr>\n",
       "  </thead>\n",
       "  <tbody>\n",
       "    <tr>\n",
       "      <th>0</th>\n",
       "      <td>892</td>\n",
       "      <td>3</td>\n",
       "      <td>Kelly, Mr. James</td>\n",
       "      <td>male</td>\n",
       "      <td>34.5</td>\n",
       "      <td>0</td>\n",
       "      <td>0</td>\n",
       "      <td>330911</td>\n",
       "      <td>7.8292</td>\n",
       "      <td>NaN</td>\n",
       "      <td>Q</td>\n",
       "    </tr>\n",
       "    <tr>\n",
       "      <th>1</th>\n",
       "      <td>893</td>\n",
       "      <td>3</td>\n",
       "      <td>Wilkes, Mrs. James (Ellen Needs)</td>\n",
       "      <td>female</td>\n",
       "      <td>47.0</td>\n",
       "      <td>1</td>\n",
       "      <td>0</td>\n",
       "      <td>363272</td>\n",
       "      <td>7.0000</td>\n",
       "      <td>NaN</td>\n",
       "      <td>S</td>\n",
       "    </tr>\n",
       "    <tr>\n",
       "      <th>2</th>\n",
       "      <td>894</td>\n",
       "      <td>2</td>\n",
       "      <td>Myles, Mr. Thomas Francis</td>\n",
       "      <td>male</td>\n",
       "      <td>62.0</td>\n",
       "      <td>0</td>\n",
       "      <td>0</td>\n",
       "      <td>240276</td>\n",
       "      <td>9.6875</td>\n",
       "      <td>NaN</td>\n",
       "      <td>Q</td>\n",
       "    </tr>\n",
       "    <tr>\n",
       "      <th>3</th>\n",
       "      <td>895</td>\n",
       "      <td>3</td>\n",
       "      <td>Wirz, Mr. Albert</td>\n",
       "      <td>male</td>\n",
       "      <td>27.0</td>\n",
       "      <td>0</td>\n",
       "      <td>0</td>\n",
       "      <td>315154</td>\n",
       "      <td>8.6625</td>\n",
       "      <td>NaN</td>\n",
       "      <td>S</td>\n",
       "    </tr>\n",
       "    <tr>\n",
       "      <th>4</th>\n",
       "      <td>896</td>\n",
       "      <td>3</td>\n",
       "      <td>Hirvonen, Mrs. Alexander (Helga E Lindqvist)</td>\n",
       "      <td>female</td>\n",
       "      <td>22.0</td>\n",
       "      <td>1</td>\n",
       "      <td>1</td>\n",
       "      <td>3101298</td>\n",
       "      <td>12.2875</td>\n",
       "      <td>NaN</td>\n",
       "      <td>S</td>\n",
       "    </tr>\n",
       "  </tbody>\n",
       "</table>\n",
       "</div>"
      ],
      "text/plain": [
       "   PassengerId  Pclass                                          Name     Sex  \\\n",
       "0          892       3                              Kelly, Mr. James    male   \n",
       "1          893       3              Wilkes, Mrs. James (Ellen Needs)  female   \n",
       "2          894       2                     Myles, Mr. Thomas Francis    male   \n",
       "3          895       3                              Wirz, Mr. Albert    male   \n",
       "4          896       3  Hirvonen, Mrs. Alexander (Helga E Lindqvist)  female   \n",
       "\n",
       "    Age  SibSp  Parch   Ticket     Fare Cabin Embarked  \n",
       "0  34.5      0      0   330911   7.8292   NaN        Q  \n",
       "1  47.0      1      0   363272   7.0000   NaN        S  \n",
       "2  62.0      0      0   240276   9.6875   NaN        Q  \n",
       "3  27.0      0      0   315154   8.6625   NaN        S  \n",
       "4  22.0      1      1  3101298  12.2875   NaN        S  "
      ]
     },
     "execution_count": 4,
     "metadata": {},
     "output_type": "execute_result"
    }
   ],
   "source": [
    "test.head()"
   ]
  },
  {
   "cell_type": "code",
   "execution_count": 5,
   "id": "7ef694d2-56a2-4304-843a-7867168f7de0",
   "metadata": {},
   "outputs": [],
   "source": [
    "test = test.drop(columns=(\"Embarked\"))"
   ]
  },
  {
   "cell_type": "code",
   "execution_count": 6,
   "id": "9cf74713-3e15-4666-84b1-bd1ae7656f6e",
   "metadata": {},
   "outputs": [],
   "source": [
    "test = test.drop(columns=(\"Cabin\"))"
   ]
  },
  {
   "cell_type": "code",
   "execution_count": 7,
   "id": "490c5393-5b9e-4f60-8cde-b45821a6c3b8",
   "metadata": {},
   "outputs": [],
   "source": [
    "test = test.drop(columns=(\"Ticket\"))"
   ]
  },
  {
   "cell_type": "code",
   "execution_count": 8,
   "id": "b491119b-ecac-4a15-b2a7-284b9290deb7",
   "metadata": {},
   "outputs": [],
   "source": [
    "test = test.drop"
   ]
  },
  {
   "cell_type": "markdown",
   "id": "cfcfed4b-06d4-40fa-bf6a-d7dbc0a0fe5c",
   "metadata": {},
   "source": [
    "## Pclass"
   ]
  },
  {
   "cell_type": "code",
   "execution_count": 9,
   "id": "a76567e6-4f5f-4278-b24c-b3d74c2be96d",
   "metadata": {},
   "outputs": [],
   "source": [
    "pclass_table = pd.crosstab(\n",
    "    train[\"Survived\"]==1,\n",
    "    train[\"Pclass\"],\n",
    "    margins=True,\n",
    "    normalize=\"columns\" \n",
    ")"
   ]
  },
  {
   "cell_type": "code",
   "execution_count": 10,
   "id": "bec9a996-4f87-4efd-b90f-9760763b42d2",
   "metadata": {},
   "outputs": [
    {
     "data": {
      "text/html": [
       "<div>\n",
       "<style scoped>\n",
       "    .dataframe tbody tr th:only-of-type {\n",
       "        vertical-align: middle;\n",
       "    }\n",
       "\n",
       "    .dataframe tbody tr th {\n",
       "        vertical-align: top;\n",
       "    }\n",
       "\n",
       "    .dataframe thead th {\n",
       "        text-align: right;\n",
       "    }\n",
       "</style>\n",
       "<table border=\"1\" class=\"dataframe\">\n",
       "  <thead>\n",
       "    <tr style=\"text-align: right;\">\n",
       "      <th>Pclass</th>\n",
       "      <th>1</th>\n",
       "      <th>2</th>\n",
       "      <th>3</th>\n",
       "      <th>All</th>\n",
       "    </tr>\n",
       "    <tr>\n",
       "      <th>Survived</th>\n",
       "      <th></th>\n",
       "      <th></th>\n",
       "      <th></th>\n",
       "      <th></th>\n",
       "    </tr>\n",
       "  </thead>\n",
       "  <tbody>\n",
       "    <tr>\n",
       "      <th>False</th>\n",
       "      <td>0.37037</td>\n",
       "      <td>0.527174</td>\n",
       "      <td>0.757637</td>\n",
       "      <td>0.616162</td>\n",
       "    </tr>\n",
       "    <tr>\n",
       "      <th>True</th>\n",
       "      <td>0.62963</td>\n",
       "      <td>0.472826</td>\n",
       "      <td>0.242363</td>\n",
       "      <td>0.383838</td>\n",
       "    </tr>\n",
       "  </tbody>\n",
       "</table>\n",
       "</div>"
      ],
      "text/plain": [
       "Pclass          1         2         3       All\n",
       "Survived                                       \n",
       "False     0.37037  0.527174  0.757637  0.616162\n",
       "True      0.62963  0.472826  0.242363  0.383838"
      ]
     },
     "execution_count": 10,
     "metadata": {},
     "output_type": "execute_result"
    }
   ],
   "source": [
    "pclass_table"
   ]
  },
  {
   "cell_type": "code",
   "execution_count": 11,
   "id": "102f65bb-b125-45cc-b1cf-decbf1dd5ce1",
   "metadata": {},
   "outputs": [
    {
     "data": {
      "text/plain": [
       "0.6296296296296297"
      ]
     },
     "execution_count": 11,
     "metadata": {},
     "output_type": "execute_result"
    }
   ],
   "source": [
    "pclass_table[1][1]"
   ]
  },
  {
   "cell_type": "code",
   "execution_count": 12,
   "id": "8bb26608-9121-412a-9102-3e51e7832b47",
   "metadata": {},
   "outputs": [],
   "source": [
    "# Given the Pclass,\n",
    "# Pclass(1) = 62.9% Chance of survival\n",
    "# Pclass(2) = 47.3% Chance of survival\n",
    "# Pclass(3) = 24.2% Chance of survival"
   ]
  },
  {
   "cell_type": "markdown",
   "id": "181411f3-8291-4444-b447-d72962d698d4",
   "metadata": {},
   "source": [
    "## Sex"
   ]
  },
  {
   "cell_type": "code",
   "execution_count": 13,
   "id": "083fd65e-e74f-46d9-a6bd-b95d80264000",
   "metadata": {},
   "outputs": [],
   "source": [
    "sex_table = pd.crosstab(\n",
    "    train[\"Survived\"]==1,\n",
    "    train[\"Sex\"],\n",
    "    margins=True,\n",
    "    normalize=\"columns\"\n",
    ")"
   ]
  },
  {
   "cell_type": "code",
   "execution_count": 14,
   "id": "4b7bce94-2e14-4c50-a2c9-ad64f1df2917",
   "metadata": {},
   "outputs": [
    {
     "data": {
      "text/html": [
       "<div>\n",
       "<style scoped>\n",
       "    .dataframe tbody tr th:only-of-type {\n",
       "        vertical-align: middle;\n",
       "    }\n",
       "\n",
       "    .dataframe tbody tr th {\n",
       "        vertical-align: top;\n",
       "    }\n",
       "\n",
       "    .dataframe thead th {\n",
       "        text-align: right;\n",
       "    }\n",
       "</style>\n",
       "<table border=\"1\" class=\"dataframe\">\n",
       "  <thead>\n",
       "    <tr style=\"text-align: right;\">\n",
       "      <th>Sex</th>\n",
       "      <th>female</th>\n",
       "      <th>male</th>\n",
       "      <th>All</th>\n",
       "    </tr>\n",
       "    <tr>\n",
       "      <th>Survived</th>\n",
       "      <th></th>\n",
       "      <th></th>\n",
       "      <th></th>\n",
       "    </tr>\n",
       "  </thead>\n",
       "  <tbody>\n",
       "    <tr>\n",
       "      <th>False</th>\n",
       "      <td>0.257962</td>\n",
       "      <td>0.811092</td>\n",
       "      <td>0.616162</td>\n",
       "    </tr>\n",
       "    <tr>\n",
       "      <th>True</th>\n",
       "      <td>0.742038</td>\n",
       "      <td>0.188908</td>\n",
       "      <td>0.383838</td>\n",
       "    </tr>\n",
       "  </tbody>\n",
       "</table>\n",
       "</div>"
      ],
      "text/plain": [
       "Sex         female      male       All\n",
       "Survived                              \n",
       "False     0.257962  0.811092  0.616162\n",
       "True      0.742038  0.188908  0.383838"
      ]
     },
     "execution_count": 14,
     "metadata": {},
     "output_type": "execute_result"
    }
   ],
   "source": [
    "sex_table"
   ]
  },
  {
   "cell_type": "code",
   "execution_count": 15,
   "id": "9aa97bde-77a2-48ad-8e28-f29af5346279",
   "metadata": {},
   "outputs": [],
   "source": [
    "# Given Sex,\n",
    "# Male = 18.9% Chance of survival\n",
    "# Female = 74.2% Chance of survival"
   ]
  },
  {
   "cell_type": "markdown",
   "id": "c72bd57c-7765-40b4-b481-8f5bb9f928c6",
   "metadata": {},
   "source": [
    "## Age"
   ]
  },
  {
   "cell_type": "code",
   "execution_count": 16,
   "id": "3caa1051-0651-43d3-a1eb-0eb50f664681",
   "metadata": {},
   "outputs": [],
   "source": [
    "age_table =pd.crosstab(\n",
    "    train[\"Survived\"]==1,\n",
    "    train[\"Age\"],\n",
    "    normalize=\"columns\"\n",
    ")"
   ]
  },
  {
   "cell_type": "code",
   "execution_count": 17,
   "id": "cfa83a43-77a2-418c-ada0-206885c44c01",
   "metadata": {},
   "outputs": [
    {
     "data": {
      "text/html": [
       "<div>\n",
       "<style scoped>\n",
       "    .dataframe tbody tr th:only-of-type {\n",
       "        vertical-align: middle;\n",
       "    }\n",
       "\n",
       "    .dataframe tbody tr th {\n",
       "        vertical-align: top;\n",
       "    }\n",
       "\n",
       "    .dataframe thead th {\n",
       "        text-align: right;\n",
       "    }\n",
       "</style>\n",
       "<table border=\"1\" class=\"dataframe\">\n",
       "  <thead>\n",
       "    <tr style=\"text-align: right;\">\n",
       "      <th>Age</th>\n",
       "      <th>0.42</th>\n",
       "      <th>0.67</th>\n",
       "      <th>0.75</th>\n",
       "      <th>0.83</th>\n",
       "      <th>0.92</th>\n",
       "      <th>1.00</th>\n",
       "      <th>2.00</th>\n",
       "      <th>3.00</th>\n",
       "      <th>4.00</th>\n",
       "      <th>5.00</th>\n",
       "      <th>...</th>\n",
       "      <th>62.00</th>\n",
       "      <th>63.00</th>\n",
       "      <th>64.00</th>\n",
       "      <th>65.00</th>\n",
       "      <th>66.00</th>\n",
       "      <th>70.00</th>\n",
       "      <th>70.50</th>\n",
       "      <th>71.00</th>\n",
       "      <th>74.00</th>\n",
       "      <th>80.00</th>\n",
       "    </tr>\n",
       "    <tr>\n",
       "      <th>Survived</th>\n",
       "      <th></th>\n",
       "      <th></th>\n",
       "      <th></th>\n",
       "      <th></th>\n",
       "      <th></th>\n",
       "      <th></th>\n",
       "      <th></th>\n",
       "      <th></th>\n",
       "      <th></th>\n",
       "      <th></th>\n",
       "      <th></th>\n",
       "      <th></th>\n",
       "      <th></th>\n",
       "      <th></th>\n",
       "      <th></th>\n",
       "      <th></th>\n",
       "      <th></th>\n",
       "      <th></th>\n",
       "      <th></th>\n",
       "      <th></th>\n",
       "      <th></th>\n",
       "    </tr>\n",
       "  </thead>\n",
       "  <tbody>\n",
       "    <tr>\n",
       "      <th>False</th>\n",
       "      <td>0.0</td>\n",
       "      <td>0.0</td>\n",
       "      <td>0.0</td>\n",
       "      <td>0.0</td>\n",
       "      <td>0.0</td>\n",
       "      <td>0.285714</td>\n",
       "      <td>0.7</td>\n",
       "      <td>0.166667</td>\n",
       "      <td>0.3</td>\n",
       "      <td>0.0</td>\n",
       "      <td>...</td>\n",
       "      <td>0.5</td>\n",
       "      <td>0.0</td>\n",
       "      <td>1.0</td>\n",
       "      <td>1.0</td>\n",
       "      <td>1.0</td>\n",
       "      <td>1.0</td>\n",
       "      <td>1.0</td>\n",
       "      <td>1.0</td>\n",
       "      <td>1.0</td>\n",
       "      <td>0.0</td>\n",
       "    </tr>\n",
       "    <tr>\n",
       "      <th>True</th>\n",
       "      <td>1.0</td>\n",
       "      <td>1.0</td>\n",
       "      <td>1.0</td>\n",
       "      <td>1.0</td>\n",
       "      <td>1.0</td>\n",
       "      <td>0.714286</td>\n",
       "      <td>0.3</td>\n",
       "      <td>0.833333</td>\n",
       "      <td>0.7</td>\n",
       "      <td>1.0</td>\n",
       "      <td>...</td>\n",
       "      <td>0.5</td>\n",
       "      <td>1.0</td>\n",
       "      <td>0.0</td>\n",
       "      <td>0.0</td>\n",
       "      <td>0.0</td>\n",
       "      <td>0.0</td>\n",
       "      <td>0.0</td>\n",
       "      <td>0.0</td>\n",
       "      <td>0.0</td>\n",
       "      <td>1.0</td>\n",
       "    </tr>\n",
       "  </tbody>\n",
       "</table>\n",
       "<p>2 rows × 88 columns</p>\n",
       "</div>"
      ],
      "text/plain": [
       "Age       0.42   0.67   0.75   0.83   0.92      1.00   2.00      3.00   4.00   \\\n",
       "Survived                                                                        \n",
       "False       0.0    0.0    0.0    0.0    0.0  0.285714    0.7  0.166667    0.3   \n",
       "True        1.0    1.0    1.0    1.0    1.0  0.714286    0.3  0.833333    0.7   \n",
       "\n",
       "Age       5.00   ...  62.00  63.00  64.00  65.00  66.00  70.00  70.50  71.00  \\\n",
       "Survived         ...                                                           \n",
       "False       0.0  ...    0.5    0.0    1.0    1.0    1.0    1.0    1.0    1.0   \n",
       "True        1.0  ...    0.5    1.0    0.0    0.0    0.0    0.0    0.0    0.0   \n",
       "\n",
       "Age       74.00  80.00  \n",
       "Survived                \n",
       "False       1.0    0.0  \n",
       "True        0.0    1.0  \n",
       "\n",
       "[2 rows x 88 columns]"
      ]
     },
     "execution_count": 17,
     "metadata": {},
     "output_type": "execute_result"
    }
   ],
   "source": [
    "age_table"
   ]
  },
  {
   "cell_type": "code",
   "execution_count": 18,
   "id": "a0b550a3-039b-4f33-ac9e-4521d3c3c40f",
   "metadata": {},
   "outputs": [
    {
     "data": {
      "text/plain": [
       "0.7142857142857143"
      ]
     },
     "execution_count": 18,
     "metadata": {},
     "output_type": "execute_result"
    }
   ],
   "source": [
    "age_table[1][1]"
   ]
  },
  {
   "cell_type": "code",
   "execution_count": 19,
   "id": "b982484d-feb8-4e8c-bc91-a5eb242ecdd8",
   "metadata": {},
   "outputs": [
    {
     "data": {
      "text/plain": [
       "0.7142857142857143"
      ]
     },
     "execution_count": 19,
     "metadata": {},
     "output_type": "execute_result"
    }
   ],
   "source": [
    "age_table[min(age_table, key=lambda x:abs(x-1))][1] #pd.crosstabのmarginsを消さないとエラーが出る？"
   ]
  },
  {
   "cell_type": "code",
   "execution_count": 20,
   "id": "7b6c8016-4e43-4026-8694-1bc8dd9a8c94",
   "metadata": {},
   "outputs": [],
   "source": [
    "# Use age table to calculate chance of survival per age\n",
    "# use later"
   ]
  },
  {
   "cell_type": "markdown",
   "id": "3c273614-9478-4075-9b2b-2aac29a5e222",
   "metadata": {},
   "source": [
    "## SibSp"
   ]
  },
  {
   "cell_type": "code",
   "execution_count": 21,
   "id": "bb31b1f9-dfa6-442c-ae27-a973aca6690e",
   "metadata": {},
   "outputs": [],
   "source": [
    "sibsp_table = pd.crosstab(\n",
    "    train[\"Survived\"]==1,\n",
    "    train[\"SibSp\"],\n",
    "    margins=True,\n",
    "    normalize=\"columns\"\n",
    ")"
   ]
  },
  {
   "cell_type": "code",
   "execution_count": 22,
   "id": "279a6752-9cfc-41ab-baef-90657eee6f28",
   "metadata": {},
   "outputs": [
    {
     "data": {
      "text/html": [
       "<div>\n",
       "<style scoped>\n",
       "    .dataframe tbody tr th:only-of-type {\n",
       "        vertical-align: middle;\n",
       "    }\n",
       "\n",
       "    .dataframe tbody tr th {\n",
       "        vertical-align: top;\n",
       "    }\n",
       "\n",
       "    .dataframe thead th {\n",
       "        text-align: right;\n",
       "    }\n",
       "</style>\n",
       "<table border=\"1\" class=\"dataframe\">\n",
       "  <thead>\n",
       "    <tr style=\"text-align: right;\">\n",
       "      <th>SibSp</th>\n",
       "      <th>0</th>\n",
       "      <th>1</th>\n",
       "      <th>2</th>\n",
       "      <th>3</th>\n",
       "      <th>4</th>\n",
       "      <th>5</th>\n",
       "      <th>8</th>\n",
       "      <th>All</th>\n",
       "    </tr>\n",
       "    <tr>\n",
       "      <th>Survived</th>\n",
       "      <th></th>\n",
       "      <th></th>\n",
       "      <th></th>\n",
       "      <th></th>\n",
       "      <th></th>\n",
       "      <th></th>\n",
       "      <th></th>\n",
       "      <th></th>\n",
       "    </tr>\n",
       "  </thead>\n",
       "  <tbody>\n",
       "    <tr>\n",
       "      <th>False</th>\n",
       "      <td>0.654605</td>\n",
       "      <td>0.464115</td>\n",
       "      <td>0.535714</td>\n",
       "      <td>0.75</td>\n",
       "      <td>0.833333</td>\n",
       "      <td>1.0</td>\n",
       "      <td>1.0</td>\n",
       "      <td>0.616162</td>\n",
       "    </tr>\n",
       "    <tr>\n",
       "      <th>True</th>\n",
       "      <td>0.345395</td>\n",
       "      <td>0.535885</td>\n",
       "      <td>0.464286</td>\n",
       "      <td>0.25</td>\n",
       "      <td>0.166667</td>\n",
       "      <td>0.0</td>\n",
       "      <td>0.0</td>\n",
       "      <td>0.383838</td>\n",
       "    </tr>\n",
       "  </tbody>\n",
       "</table>\n",
       "</div>"
      ],
      "text/plain": [
       "SibSp            0         1         2     3         4    5    8       All\n",
       "Survived                                                                  \n",
       "False     0.654605  0.464115  0.535714  0.75  0.833333  1.0  1.0  0.616162\n",
       "True      0.345395  0.535885  0.464286  0.25  0.166667  0.0  0.0  0.383838"
      ]
     },
     "execution_count": 22,
     "metadata": {},
     "output_type": "execute_result"
    }
   ],
   "source": [
    "sibsp_table"
   ]
  },
  {
   "cell_type": "code",
   "execution_count": 23,
   "id": "3bf49c60-f4bd-4132-bdf8-50a20062b368",
   "metadata": {},
   "outputs": [
    {
     "data": {
      "text/plain": [
       "0.34539473684210525"
      ]
     },
     "execution_count": 23,
     "metadata": {},
     "output_type": "execute_result"
    }
   ],
   "source": [
    "sibsp_table[0][1]"
   ]
  },
  {
   "cell_type": "markdown",
   "id": "5b29d459-5724-4fab-b0d4-3b3e4b42927f",
   "metadata": {},
   "source": [
    "## Parch"
   ]
  },
  {
   "cell_type": "code",
   "execution_count": 24,
   "id": "c36e5711-5703-4b59-a884-f6ff526d81db",
   "metadata": {},
   "outputs": [],
   "source": [
    "parch_table = pd.crosstab(\n",
    "    train[\"Survived\"]==0,\n",
    "    train[\"Parch\"],\n",
    "    normalize=\"columns\"\n",
    ")"
   ]
  },
  {
   "cell_type": "code",
   "execution_count": 25,
   "id": "c16d3676-3e25-446b-8d4b-5bd9524bf1d6",
   "metadata": {},
   "outputs": [
    {
     "data": {
      "text/html": [
       "<div>\n",
       "<style scoped>\n",
       "    .dataframe tbody tr th:only-of-type {\n",
       "        vertical-align: middle;\n",
       "    }\n",
       "\n",
       "    .dataframe tbody tr th {\n",
       "        vertical-align: top;\n",
       "    }\n",
       "\n",
       "    .dataframe thead th {\n",
       "        text-align: right;\n",
       "    }\n",
       "</style>\n",
       "<table border=\"1\" class=\"dataframe\">\n",
       "  <thead>\n",
       "    <tr style=\"text-align: right;\">\n",
       "      <th>Parch</th>\n",
       "      <th>0</th>\n",
       "      <th>1</th>\n",
       "      <th>2</th>\n",
       "      <th>3</th>\n",
       "      <th>4</th>\n",
       "      <th>5</th>\n",
       "      <th>6</th>\n",
       "    </tr>\n",
       "    <tr>\n",
       "      <th>Survived</th>\n",
       "      <th></th>\n",
       "      <th></th>\n",
       "      <th></th>\n",
       "      <th></th>\n",
       "      <th></th>\n",
       "      <th></th>\n",
       "      <th></th>\n",
       "    </tr>\n",
       "  </thead>\n",
       "  <tbody>\n",
       "    <tr>\n",
       "      <th>False</th>\n",
       "      <td>0.343658</td>\n",
       "      <td>0.550847</td>\n",
       "      <td>0.5</td>\n",
       "      <td>0.6</td>\n",
       "      <td>0.0</td>\n",
       "      <td>0.2</td>\n",
       "      <td>0.0</td>\n",
       "    </tr>\n",
       "    <tr>\n",
       "      <th>True</th>\n",
       "      <td>0.656342</td>\n",
       "      <td>0.449153</td>\n",
       "      <td>0.5</td>\n",
       "      <td>0.4</td>\n",
       "      <td>1.0</td>\n",
       "      <td>0.8</td>\n",
       "      <td>1.0</td>\n",
       "    </tr>\n",
       "  </tbody>\n",
       "</table>\n",
       "</div>"
      ],
      "text/plain": [
       "Parch            0         1    2    3    4    5    6\n",
       "Survived                                             \n",
       "False     0.343658  0.550847  0.5  0.6  0.0  0.2  0.0\n",
       "True      0.656342  0.449153  0.5  0.4  1.0  0.8  1.0"
      ]
     },
     "execution_count": 25,
     "metadata": {},
     "output_type": "execute_result"
    }
   ],
   "source": [
    "parch_table"
   ]
  },
  {
   "cell_type": "markdown",
   "id": "232a9a3a-18b6-46cf-a4a2-9b5027639182",
   "metadata": {},
   "source": [
    "## Fare"
   ]
  },
  {
   "cell_type": "code",
   "execution_count": 26,
   "id": "dc3038b0-fd89-450a-9b03-d09fd371d072",
   "metadata": {},
   "outputs": [],
   "source": [
    "titanic_fare = train[[\"Survived\",\"Fare\"]]"
   ]
  },
  {
   "cell_type": "code",
   "execution_count": 27,
   "id": "0549107f-1cbe-488b-9288-d616e3c6da7e",
   "metadata": {},
   "outputs": [],
   "source": [
    "fare_table = pd.crosstab(\n",
    "    train[\"Survived\"]==1,\n",
    "    train[\"Fare\"],\n",
    "    normalize=\"columns\"\n",
    ")"
   ]
  },
  {
   "cell_type": "code",
   "execution_count": 28,
   "id": "53d2f5a6-81d1-40de-b5ef-7fee21f7031f",
   "metadata": {},
   "outputs": [
    {
     "data": {
      "text/html": [
       "<div>\n",
       "<style scoped>\n",
       "    .dataframe tbody tr th:only-of-type {\n",
       "        vertical-align: middle;\n",
       "    }\n",
       "\n",
       "    .dataframe tbody tr th {\n",
       "        vertical-align: top;\n",
       "    }\n",
       "\n",
       "    .dataframe thead th {\n",
       "        text-align: right;\n",
       "    }\n",
       "</style>\n",
       "<table border=\"1\" class=\"dataframe\">\n",
       "  <thead>\n",
       "    <tr style=\"text-align: right;\">\n",
       "      <th>Fare</th>\n",
       "      <th>0.0000</th>\n",
       "      <th>4.0125</th>\n",
       "      <th>5.0000</th>\n",
       "      <th>6.2375</th>\n",
       "      <th>6.4375</th>\n",
       "      <th>6.4500</th>\n",
       "      <th>6.4958</th>\n",
       "      <th>6.7500</th>\n",
       "      <th>6.8583</th>\n",
       "      <th>6.9500</th>\n",
       "      <th>...</th>\n",
       "      <th>153.4625</th>\n",
       "      <th>164.8667</th>\n",
       "      <th>211.3375</th>\n",
       "      <th>211.5000</th>\n",
       "      <th>221.7792</th>\n",
       "      <th>227.5250</th>\n",
       "      <th>247.5208</th>\n",
       "      <th>262.3750</th>\n",
       "      <th>263.0000</th>\n",
       "      <th>512.3292</th>\n",
       "    </tr>\n",
       "    <tr>\n",
       "      <th>Survived</th>\n",
       "      <th></th>\n",
       "      <th></th>\n",
       "      <th></th>\n",
       "      <th></th>\n",
       "      <th></th>\n",
       "      <th></th>\n",
       "      <th></th>\n",
       "      <th></th>\n",
       "      <th></th>\n",
       "      <th></th>\n",
       "      <th></th>\n",
       "      <th></th>\n",
       "      <th></th>\n",
       "      <th></th>\n",
       "      <th></th>\n",
       "      <th></th>\n",
       "      <th></th>\n",
       "      <th></th>\n",
       "      <th></th>\n",
       "      <th></th>\n",
       "      <th></th>\n",
       "    </tr>\n",
       "  </thead>\n",
       "  <tbody>\n",
       "    <tr>\n",
       "      <th>False</th>\n",
       "      <td>0.933333</td>\n",
       "      <td>1.0</td>\n",
       "      <td>1.0</td>\n",
       "      <td>1.0</td>\n",
       "      <td>1.0</td>\n",
       "      <td>1.0</td>\n",
       "      <td>1.0</td>\n",
       "      <td>1.0</td>\n",
       "      <td>1.0</td>\n",
       "      <td>1.0</td>\n",
       "      <td>...</td>\n",
       "      <td>0.333333</td>\n",
       "      <td>0.0</td>\n",
       "      <td>0.0</td>\n",
       "      <td>1.0</td>\n",
       "      <td>1.0</td>\n",
       "      <td>0.25</td>\n",
       "      <td>0.5</td>\n",
       "      <td>0.0</td>\n",
       "      <td>0.5</td>\n",
       "      <td>0.0</td>\n",
       "    </tr>\n",
       "    <tr>\n",
       "      <th>True</th>\n",
       "      <td>0.066667</td>\n",
       "      <td>0.0</td>\n",
       "      <td>0.0</td>\n",
       "      <td>0.0</td>\n",
       "      <td>0.0</td>\n",
       "      <td>0.0</td>\n",
       "      <td>0.0</td>\n",
       "      <td>0.0</td>\n",
       "      <td>0.0</td>\n",
       "      <td>0.0</td>\n",
       "      <td>...</td>\n",
       "      <td>0.666667</td>\n",
       "      <td>1.0</td>\n",
       "      <td>1.0</td>\n",
       "      <td>0.0</td>\n",
       "      <td>0.0</td>\n",
       "      <td>0.75</td>\n",
       "      <td>0.5</td>\n",
       "      <td>1.0</td>\n",
       "      <td>0.5</td>\n",
       "      <td>1.0</td>\n",
       "    </tr>\n",
       "  </tbody>\n",
       "</table>\n",
       "<p>2 rows × 248 columns</p>\n",
       "</div>"
      ],
      "text/plain": [
       "Fare      0.0000    4.0125    5.0000    6.2375    6.4375    6.4500    \\\n",
       "Survived                                                               \n",
       "False     0.933333       1.0       1.0       1.0       1.0       1.0   \n",
       "True      0.066667       0.0       0.0       0.0       0.0       0.0   \n",
       "\n",
       "Fare      6.4958    6.7500    6.8583    6.9500    ...  153.4625  164.8667  \\\n",
       "Survived                                          ...                       \n",
       "False          1.0       1.0       1.0       1.0  ...  0.333333       0.0   \n",
       "True           0.0       0.0       0.0       0.0  ...  0.666667       1.0   \n",
       "\n",
       "Fare      211.3375  211.5000  221.7792  227.5250  247.5208  262.3750  \\\n",
       "Survived                                                               \n",
       "False          0.0       1.0       1.0      0.25       0.5       0.0   \n",
       "True           1.0       0.0       0.0      0.75       0.5       1.0   \n",
       "\n",
       "Fare      263.0000  512.3292  \n",
       "Survived                      \n",
       "False          0.5       0.0  \n",
       "True           0.5       1.0  \n",
       "\n",
       "[2 rows x 248 columns]"
      ]
     },
     "execution_count": 28,
     "metadata": {},
     "output_type": "execute_result"
    }
   ],
   "source": [
    "fare_table"
   ]
  },
  {
   "cell_type": "code",
   "execution_count": 29,
   "id": "61a51f82-394e-4053-9eff-63bd39c4de64",
   "metadata": {},
   "outputs": [
    {
     "data": {
      "text/plain": [
       "0.06666666666666667"
      ]
     },
     "execution_count": 29,
     "metadata": {},
     "output_type": "execute_result"
    }
   ],
   "source": [
    "fare_table[min(fare_table, key=lambda x:abs(x-0))][1]"
   ]
  },
  {
   "cell_type": "markdown",
   "id": "d1eeb4b9-50d7-4fd9-8566-f5019c5c65df",
   "metadata": {},
   "source": [
    "# Time to test"
   ]
  },
  {
   "cell_type": "code",
   "execution_count": 30,
   "id": "3004d05e-0643-46cb-a671-b35fa98d97af",
   "metadata": {},
   "outputs": [
    {
     "ename": "AttributeError",
     "evalue": "'function' object has no attribute 'drop'",
     "output_type": "error",
     "traceback": [
      "\u001b[0;31m---------------------------------------------------------------------------\u001b[0m",
      "\u001b[0;31mAttributeError\u001b[0m                            Traceback (most recent call last)",
      "\u001b[0;32m<ipython-input-30-2c1e86b922b4>\u001b[0m in \u001b[0;36m<module>\u001b[0;34m\u001b[0m\n\u001b[0;32m----> 1\u001b[0;31m \u001b[0mtest\u001b[0m \u001b[0;34m=\u001b[0m \u001b[0mtest\u001b[0m\u001b[0;34m.\u001b[0m\u001b[0mdrop\u001b[0m\u001b[0;34m(\u001b[0m\u001b[0mcolumns\u001b[0m\u001b[0;34m=\u001b[0m\u001b[0;34m(\u001b[0m\u001b[0;34m\"Name\"\u001b[0m\u001b[0;34m)\u001b[0m\u001b[0;34m)\u001b[0m\u001b[0;34m\u001b[0m\u001b[0;34m\u001b[0m\u001b[0m\n\u001b[0m",
      "\u001b[0;31mAttributeError\u001b[0m: 'function' object has no attribute 'drop'"
     ]
    }
   ],
   "source": [
    "test = test.drop(columns=(\"Name\"))"
   ]
  },
  {
   "cell_type": "code",
   "execution_count": null,
   "id": "356ba62c-fd62-44c6-a61c-0ab1e7bd12b2",
   "metadata": {},
   "outputs": [],
   "source": [
    "test"
   ]
  },
  {
   "cell_type": "code",
   "execution_count": null,
   "id": "cf448b91-86e4-4842-b336-8bf69f972478",
   "metadata": {},
   "outputs": [],
   "source": [
    "test[\"Age\"].describe()"
   ]
  },
  {
   "cell_type": "code",
   "execution_count": null,
   "id": "0430781f-a29f-4fd9-8ee1-af82fd798ce7",
   "metadata": {},
   "outputs": [],
   "source": [
    "test.isna().sum()"
   ]
  },
  {
   "cell_type": "code",
   "execution_count": null,
   "id": "d7ab749f-0d2f-456e-8c98-b925a398c39e",
   "metadata": {},
   "outputs": [],
   "source": [
    "test[\"Age\"].fillna(30.27,inplace=True)#NaNには平均年齢を代用"
   ]
  },
  {
   "cell_type": "code",
   "execution_count": null,
   "id": "b4c51e81-fbb9-4242-9ca7-36b2ce517d37",
   "metadata": {},
   "outputs": [],
   "source": [
    "test.isna().sum()"
   ]
  },
  {
   "cell_type": "code",
   "execution_count": null,
   "id": "71fb5fae-9cf7-45e4-afc1-769e1b7dd22c",
   "metadata": {},
   "outputs": [],
   "source": [
    "test[\"Fare\"].describe()"
   ]
  },
  {
   "cell_type": "code",
   "execution_count": null,
   "id": "ddeecd8e-f5cf-4d7c-be1f-06dc1062082d",
   "metadata": {},
   "outputs": [],
   "source": [
    "test[\"Fare\"].fillna(35.6, inplace=True)"
   ]
  },
  {
   "cell_type": "code",
   "execution_count": null,
   "id": "085b42b2-6322-4f90-803d-7db346852fdc",
   "metadata": {},
   "outputs": [],
   "source": [
    "test.isna().sum()"
   ]
  },
  {
   "cell_type": "markdown",
   "id": "53cb17d5-e7d5-4c89-9e9f-1bc05db46399",
   "metadata": {},
   "source": [
    "## Calculating data based off test.csv"
   ]
  },
  {
   "cell_type": "code",
   "execution_count": null,
   "id": "63219738-da44-4305-9f2d-31c102c96791",
   "metadata": {},
   "outputs": [],
   "source": [
    "# 考えているコードの書き方のまとめ\n",
    "# すごく雑で効率がすごく悪い気がしますが、取り敢えず試してみます\n",
    "# Get range of test list = 417\n",
    "# Use the crosstab tables made earlier to get the survival rate and add it to a \n",
    "# Add all of the values and divide by the number of factors"
   ]
  },
  {
   "cell_type": "code",
   "execution_count": null,
   "id": "583bee70-2b4c-4551-a49b-82c9e3548358",
   "metadata": {},
   "outputs": [],
   "source": [
    "test_pclass_calculated = []\n",
    "for x in range(418):\n",
    "    test_pclass_calculated.append(pclass_table[(test[\"Pclass\"][x])][1])"
   ]
  },
  {
   "cell_type": "code",
   "execution_count": null,
   "id": "9237416b-9b19-47b0-a41a-c5e329593122",
   "metadata": {},
   "outputs": [],
   "source": [
    "test_sex_calculated = []\n",
    "for x in range(418):\n",
    "    test_sex_calculated.append(sex_table[(test[\"Sex\"][x])][1])"
   ]
  },
  {
   "cell_type": "code",
   "execution_count": null,
   "id": "006473e9-47b7-48f8-bca2-09669681829c",
   "metadata": {},
   "outputs": [],
   "source": [
    "test_age_calculated = []\n",
    "for x in range(418):\n",
    "    b = test[\"Age\"][x]\n",
    "    test_age_calculated.append(\n",
    "        age_table[\n",
    "            min(age_table, key=lambda x:abs(x-b))][1]\n",
    "    )"
   ]
  },
  {
   "cell_type": "code",
   "execution_count": null,
   "id": "c6ea872b-2995-4022-a037-f623ce071e8e",
   "metadata": {},
   "outputs": [],
   "source": [
    "test_sibsp_calculated = []\n",
    "for x in range(418):\n",
    "    test_sibsp_calculated.append(sibsp_table[(test[\"SibSp\"][x])][1])"
   ]
  },
  {
   "cell_type": "code",
   "execution_count": null,
   "id": "19ad432d-c072-4593-8331-65a1eccceb33",
   "metadata": {},
   "outputs": [],
   "source": [
    "test_parch_calculated = []\n",
    "for x in range(418):\n",
    "    c = test[\"Parch\"][x]\n",
    "    test_parch_calculated.append(\n",
    "        parch_table[\n",
    "            min(parch_table, key=lambda x:abs(x-c))][1]\n",
    "    )"
   ]
  },
  {
   "cell_type": "code",
   "execution_count": null,
   "id": "35974dbe-eb89-4b79-bfe8-50d337261b8b",
   "metadata": {},
   "outputs": [],
   "source": [
    "test_fare_calculated = []\n",
    "for x in range(418):\n",
    "    d = test[\"Fare\"][x]\n",
    "    test_fare_calculated.append(\n",
    "        fare_table[\n",
    "            min(fare_table, key=lambda x:abs(x-d))][1]\n",
    "    )"
   ]
  },
  {
   "cell_type": "code",
   "execution_count": null,
   "id": "97a8bd3e-ae87-462d-a21b-597ce18436e2",
   "metadata": {},
   "outputs": [],
   "source": [
    "#全部入ったか確かめる"
   ]
  },
  {
   "cell_type": "code",
   "execution_count": null,
   "id": "0d4c6b33-a349-4aef-87ff-7e697f343676",
   "metadata": {
    "tags": []
   },
   "outputs": [],
   "source": [
    "test_fare_calculated"
   ]
  },
  {
   "cell_type": "code",
   "execution_count": null,
   "id": "9587b76b-6b62-4252-ac44-6f32baa3e96a",
   "metadata": {
    "tags": []
   },
   "outputs": [],
   "source": [
    "test_age_calculated"
   ]
  },
  {
   "cell_type": "code",
   "execution_count": null,
   "id": "f7496b5b-14b1-432d-b7ad-36d11b75b2f7",
   "metadata": {
    "tags": []
   },
   "outputs": [],
   "source": [
    "test_parch_calculated"
   ]
  },
  {
   "cell_type": "code",
   "execution_count": null,
   "id": "be8d1882-0817-42d4-85d4-de3cb8fcd04e",
   "metadata": {
    "tags": []
   },
   "outputs": [],
   "source": [
    "test_pclass_calculated"
   ]
  },
  {
   "cell_type": "code",
   "execution_count": null,
   "id": "9b7d7f72-9bba-4c56-bb0d-4a1585b0a42f",
   "metadata": {
    "tags": []
   },
   "outputs": [],
   "source": [
    "test_age_calculated"
   ]
  },
  {
   "cell_type": "code",
   "execution_count": null,
   "id": "c0d880c0-589a-4bbd-8a9b-0df26771b0e8",
   "metadata": {
    "tags": []
   },
   "outputs": [],
   "source": [
    "test_sibsp_calculated"
   ]
  },
  {
   "cell_type": "code",
   "execution_count": null,
   "id": "30be35b2-8fe9-4988-862a-c188063e2915",
   "metadata": {},
   "outputs": [],
   "source": [
    "survival_sum1 = np.add(\n",
    "    test_pclass_calculated, \n",
    "    test_sex_calculated\n",
    ")\n",
    "#一気に全てのリストを足す方法がわからないから一つづつ"
   ]
  },
  {
   "cell_type": "code",
   "execution_count": null,
   "id": "61577867-0e29-487a-b6ae-6b6e347bfd5e",
   "metadata": {},
   "outputs": [],
   "source": [
    "survival_sum2 = np.add(\n",
    "    survival_sum1, \n",
    "    test_age_calculated)"
   ]
  },
  {
   "cell_type": "code",
   "execution_count": null,
   "id": "c5d36ffb-2196-4bf7-ba39-aaa3f46e4f28",
   "metadata": {},
   "outputs": [],
   "source": [
    "survival_sum3 = np.add(\n",
    "    survival_sum2, \n",
    "    test_sibsp_calculated)"
   ]
  },
  {
   "cell_type": "code",
   "execution_count": null,
   "id": "62f4312d-5a8d-4727-b294-1442736698c6",
   "metadata": {},
   "outputs": [],
   "source": [
    "survival_sum4 = np.add(\n",
    "    survival_sum3, \n",
    "    test_parch_calculated)"
   ]
  },
  {
   "cell_type": "code",
   "execution_count": null,
   "id": "aafeba5b-6273-4e79-806c-0ecdb68eb84d",
   "metadata": {},
   "outputs": [],
   "source": [
    "survival_total = np.add(\n",
    "    survival_sum4, \n",
    "    test_fare_calculated\n",
    ")"
   ]
  },
  {
   "cell_type": "code",
   "execution_count": null,
   "id": "ec26ff84-2771-45fa-beb4-79bf7593f778",
   "metadata": {
    "tags": []
   },
   "outputs": [],
   "source": [
    "survival_total"
   ]
  },
  {
   "cell_type": "code",
   "execution_count": null,
   "id": "2d3576fb-c93d-402a-8e23-99ca8f0290fc",
   "metadata": {},
   "outputs": [],
   "source": [
    "survival_final_preprocessed = survival_total/5"
   ]
  },
  {
   "cell_type": "code",
   "execution_count": null,
   "id": "ecaeaf65-619f-471a-978e-004e60ddfebf",
   "metadata": {},
   "outputs": [],
   "source": [
    "len(survival_final_preprocessed)"
   ]
  },
  {
   "cell_type": "code",
   "execution_count": null,
   "id": "508fc815-801f-4314-bd11-bf18869a2558",
   "metadata": {
    "tags": []
   },
   "outputs": [],
   "source": [
    "survival_final_preprocessed"
   ]
  },
  {
   "cell_type": "code",
   "execution_count": null,
   "id": "5073fcf9-9663-4450-9e56-ebbafafbf47d",
   "metadata": {},
   "outputs": [],
   "source": [
    "# ここで問題が生存する確率がどこを上まったら生き残るの仮定するか\n",
    "# 取り敢えず x > 0.5なら生存するとする"
   ]
  },
  {
   "cell_type": "code",
   "execution_count": null,
   "id": "a520b54b-286b-4bea-9e2c-af2f65f38fd6",
   "metadata": {},
   "outputs": [],
   "source": [
    "survival_final = []\n",
    "for x in survival_final_preprocessed:\n",
    "    if x>0.5:\n",
    "        survival_final.append(1)\n",
    "    else:\n",
    "        survival_final.append(0)"
   ]
  },
  {
   "cell_type": "code",
   "execution_count": null,
   "id": "cad1aa4c-cfcc-4190-949a-2a5957a62467",
   "metadata": {
    "tags": []
   },
   "outputs": [],
   "source": [
    "survival_final"
   ]
  },
  {
   "cell_type": "code",
   "execution_count": null,
   "id": "6ab2cae2-bae7-45fe-8c46-e8ede3587085",
   "metadata": {},
   "outputs": [],
   "source": [
    "test.head()"
   ]
  },
  {
   "cell_type": "code",
   "execution_count": null,
   "id": "8036d4bf-4053-4a46-bef8-0ea5bb91a64d",
   "metadata": {},
   "outputs": [],
   "source": [
    "test[\"Survived\"] = survival_final"
   ]
  },
  {
   "cell_type": "code",
   "execution_count": null,
   "id": "5b761c2e-438a-49d4-8226-baf95facefeb",
   "metadata": {},
   "outputs": [],
   "source": [
    "test = test.drop(columns=(\"Pclass\"))"
   ]
  },
  {
   "cell_type": "code",
   "execution_count": null,
   "id": "e4a12c03-b497-421a-afb5-e0ea628e477d",
   "metadata": {},
   "outputs": [],
   "source": [
    "test = test.drop(columns=(\"Fare\"))\n",
    "test = test.drop(columns=(\"Parch\"))\n",
    "test = test.drop(columns=(\"SibSp\"))\n",
    "test = test.drop(columns=(\"Age\"))\n",
    "test = test.drop(columns=(\"Sex\"))\n",
    "test"
   ]
  },
  {
   "cell_type": "code",
   "execution_count": null,
   "id": "571d9cd8-08b1-4a20-8409-c3ce9df55c10",
   "metadata": {},
   "outputs": [],
   "source": [
    "test"
   ]
  },
  {
   "cell_type": "code",
   "execution_count": null,
   "id": "4e9a9fe8-fc24-462a-b650-7cc92a2d4fdc",
   "metadata": {},
   "outputs": [],
   "source": [
    "test.to_csv(\"submit.csv\", index=False)"
   ]
  },
  {
   "cell_type": "code",
   "execution_count": null,
   "id": "65465a9e-e736-4ed3-a9c0-e5d889a01b45",
   "metadata": {},
   "outputs": [],
   "source": []
  }
 ],
 "metadata": {
  "kernelspec": {
   "display_name": "Python 3",
   "language": "python",
   "name": "python3"
  },
  "language_info": {
   "codemirror_mode": {
    "name": "ipython",
    "version": 3
   },
   "file_extension": ".py",
   "mimetype": "text/x-python",
   "name": "python",
   "nbconvert_exporter": "python",
   "pygments_lexer": "ipython3",
   "version": "3.8.8"
  },
  "toc-autonumbering": false
 },
 "nbformat": 4,
 "nbformat_minor": 5
}
