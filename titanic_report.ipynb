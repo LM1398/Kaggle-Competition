{
 "cells": [
  {
   "cell_type": "markdown",
   "id": "58d32cb8-a6a4-47ce-a4c5-32893fd1b316",
   "metadata": {},
   "source": [
    "# Kaggle タイタニックの Survived に影響を与える要因"
   ]
  },
  {
   "cell_type": "code",
   "execution_count": 1,
   "id": "0169623b-00ae-4f96-97ea-9d485ade00df",
   "metadata": {},
   "outputs": [],
   "source": [
    "#Kaggleでのタイタニック号の生存者予測コンペのデータを使い、生存する確率に影響をもたらす可能性があるものをデータから推測します。"
   ]
  },
  {
   "cell_type": "markdown",
   "id": "a8bcf2b0-256d-4fda-b53b-8518ffb0ad48",
   "metadata": {},
   "source": [
    "## データと必要なモジュールのインポート"
   ]
  },
  {
   "cell_type": "code",
   "execution_count": 2,
   "id": "31235784-29f7-4ef2-84ec-55bce89a6773",
   "metadata": {},
   "outputs": [],
   "source": [
    "import numpy as np\n",
    "import pandas as pd\n",
    "import matplotlib.pyplot as plt\n",
    "import seaborn as sns"
   ]
  },
  {
   "cell_type": "code",
   "execution_count": 3,
   "id": "f4eef8a4-802b-47cb-b30e-71178f0f4be3",
   "metadata": {},
   "outputs": [],
   "source": [
    "train = pd.read_csv(\"/Users/leo/samurai/kaggle/titanic/data/train.csv\")"
   ]
  },
  {
   "cell_type": "code",
   "execution_count": 4,
   "id": "28f69fe9-66c3-4769-a503-6370b7d0f3a6",
   "metadata": {},
   "outputs": [
    {
     "data": {
      "text/html": [
       "<div>\n",
       "<style scoped>\n",
       "    .dataframe tbody tr th:only-of-type {\n",
       "        vertical-align: middle;\n",
       "    }\n",
       "\n",
       "    .dataframe tbody tr th {\n",
       "        vertical-align: top;\n",
       "    }\n",
       "\n",
       "    .dataframe thead th {\n",
       "        text-align: right;\n",
       "    }\n",
       "</style>\n",
       "<table border=\"1\" class=\"dataframe\">\n",
       "  <thead>\n",
       "    <tr style=\"text-align: right;\">\n",
       "      <th></th>\n",
       "      <th>PassengerId</th>\n",
       "      <th>Survived</th>\n",
       "      <th>Pclass</th>\n",
       "      <th>Name</th>\n",
       "      <th>Sex</th>\n",
       "      <th>Age</th>\n",
       "      <th>SibSp</th>\n",
       "      <th>Parch</th>\n",
       "      <th>Ticket</th>\n",
       "      <th>Fare</th>\n",
       "      <th>Cabin</th>\n",
       "      <th>Embarked</th>\n",
       "    </tr>\n",
       "  </thead>\n",
       "  <tbody>\n",
       "    <tr>\n",
       "      <th>0</th>\n",
       "      <td>1</td>\n",
       "      <td>0</td>\n",
       "      <td>3</td>\n",
       "      <td>Braund, Mr. Owen Harris</td>\n",
       "      <td>male</td>\n",
       "      <td>22.0</td>\n",
       "      <td>1</td>\n",
       "      <td>0</td>\n",
       "      <td>A/5 21171</td>\n",
       "      <td>7.2500</td>\n",
       "      <td>NaN</td>\n",
       "      <td>S</td>\n",
       "    </tr>\n",
       "    <tr>\n",
       "      <th>1</th>\n",
       "      <td>2</td>\n",
       "      <td>1</td>\n",
       "      <td>1</td>\n",
       "      <td>Cumings, Mrs. John Bradley (Florence Briggs Th...</td>\n",
       "      <td>female</td>\n",
       "      <td>38.0</td>\n",
       "      <td>1</td>\n",
       "      <td>0</td>\n",
       "      <td>PC 17599</td>\n",
       "      <td>71.2833</td>\n",
       "      <td>C85</td>\n",
       "      <td>C</td>\n",
       "    </tr>\n",
       "    <tr>\n",
       "      <th>2</th>\n",
       "      <td>3</td>\n",
       "      <td>1</td>\n",
       "      <td>3</td>\n",
       "      <td>Heikkinen, Miss. Laina</td>\n",
       "      <td>female</td>\n",
       "      <td>26.0</td>\n",
       "      <td>0</td>\n",
       "      <td>0</td>\n",
       "      <td>STON/O2. 3101282</td>\n",
       "      <td>7.9250</td>\n",
       "      <td>NaN</td>\n",
       "      <td>S</td>\n",
       "    </tr>\n",
       "    <tr>\n",
       "      <th>3</th>\n",
       "      <td>4</td>\n",
       "      <td>1</td>\n",
       "      <td>1</td>\n",
       "      <td>Futrelle, Mrs. Jacques Heath (Lily May Peel)</td>\n",
       "      <td>female</td>\n",
       "      <td>35.0</td>\n",
       "      <td>1</td>\n",
       "      <td>0</td>\n",
       "      <td>113803</td>\n",
       "      <td>53.1000</td>\n",
       "      <td>C123</td>\n",
       "      <td>S</td>\n",
       "    </tr>\n",
       "    <tr>\n",
       "      <th>4</th>\n",
       "      <td>5</td>\n",
       "      <td>0</td>\n",
       "      <td>3</td>\n",
       "      <td>Allen, Mr. William Henry</td>\n",
       "      <td>male</td>\n",
       "      <td>35.0</td>\n",
       "      <td>0</td>\n",
       "      <td>0</td>\n",
       "      <td>373450</td>\n",
       "      <td>8.0500</td>\n",
       "      <td>NaN</td>\n",
       "      <td>S</td>\n",
       "    </tr>\n",
       "  </tbody>\n",
       "</table>\n",
       "</div>"
      ],
      "text/plain": [
       "   PassengerId  Survived  Pclass  \\\n",
       "0            1         0       3   \n",
       "1            2         1       1   \n",
       "2            3         1       3   \n",
       "3            4         1       1   \n",
       "4            5         0       3   \n",
       "\n",
       "                                                Name     Sex   Age  SibSp  \\\n",
       "0                            Braund, Mr. Owen Harris    male  22.0      1   \n",
       "1  Cumings, Mrs. John Bradley (Florence Briggs Th...  female  38.0      1   \n",
       "2                             Heikkinen, Miss. Laina  female  26.0      0   \n",
       "3       Futrelle, Mrs. Jacques Heath (Lily May Peel)  female  35.0      1   \n",
       "4                           Allen, Mr. William Henry    male  35.0      0   \n",
       "\n",
       "   Parch            Ticket     Fare Cabin Embarked  \n",
       "0      0         A/5 21171   7.2500   NaN        S  \n",
       "1      0          PC 17599  71.2833   C85        C  \n",
       "2      0  STON/O2. 3101282   7.9250   NaN        S  \n",
       "3      0            113803  53.1000  C123        S  \n",
       "4      0            373450   8.0500   NaN        S  "
      ]
     },
     "execution_count": 4,
     "metadata": {},
     "output_type": "execute_result"
    }
   ],
   "source": [
    "train.head()#データのプレビュー"
   ]
  },
  {
   "cell_type": "code",
   "execution_count": 5,
   "id": "6b392bac-35f0-415d-b346-53f4d9a6da4a",
   "metadata": {},
   "outputs": [
    {
     "data": {
      "text/plain": [
       "PassengerId      0\n",
       "Survived         0\n",
       "Pclass           0\n",
       "Name             0\n",
       "Sex              0\n",
       "Age            177\n",
       "SibSp            0\n",
       "Parch            0\n",
       "Ticket           0\n",
       "Fare             0\n",
       "Cabin          687\n",
       "Embarked         2\n",
       "dtype: int64"
      ]
     },
     "execution_count": 5,
     "metadata": {},
     "output_type": "execute_result"
    }
   ],
   "source": [
    "train.isna().sum()#情報がないcolumnをチェック"
   ]
  },
  {
   "cell_type": "markdown",
   "id": "0f581c3a-d53e-4665-9956-f1e8c0ea7ebd",
   "metadata": {},
   "source": [
    "## データを部分化してSurvivedとの関連性を探す"
   ]
  },
  {
   "cell_type": "markdown",
   "id": "9d976ed6-41f6-4401-a0f1-32f20a774b8c",
   "metadata": {},
   "source": [
    "### Pclass"
   ]
  },
  {
   "cell_type": "code",
   "execution_count": 6,
   "id": "b3a7c3fb-ff52-4cad-adc5-3088a952cc55",
   "metadata": {},
   "outputs": [],
   "source": [
    "trainpclass = train[[\"Pclass\", \"Survived\"]]#PclassとSurvivedを抽出"
   ]
  },
  {
   "cell_type": "code",
   "execution_count": 7,
   "id": "5fc903bd-958b-4e0a-b181-301b5733e816",
   "metadata": {},
   "outputs": [
    {
     "data": {
      "text/html": [
       "<div>\n",
       "<style scoped>\n",
       "    .dataframe tbody tr th:only-of-type {\n",
       "        vertical-align: middle;\n",
       "    }\n",
       "\n",
       "    .dataframe tbody tr th {\n",
       "        vertical-align: top;\n",
       "    }\n",
       "\n",
       "    .dataframe thead th {\n",
       "        text-align: right;\n",
       "    }\n",
       "</style>\n",
       "<table border=\"1\" class=\"dataframe\">\n",
       "  <thead>\n",
       "    <tr style=\"text-align: right;\">\n",
       "      <th></th>\n",
       "      <th>Pclass</th>\n",
       "      <th>Survived</th>\n",
       "    </tr>\n",
       "  </thead>\n",
       "  <tbody>\n",
       "    <tr>\n",
       "      <th>0</th>\n",
       "      <td>3</td>\n",
       "      <td>0</td>\n",
       "    </tr>\n",
       "    <tr>\n",
       "      <th>1</th>\n",
       "      <td>1</td>\n",
       "      <td>1</td>\n",
       "    </tr>\n",
       "    <tr>\n",
       "      <th>2</th>\n",
       "      <td>3</td>\n",
       "      <td>1</td>\n",
       "    </tr>\n",
       "    <tr>\n",
       "      <th>3</th>\n",
       "      <td>1</td>\n",
       "      <td>1</td>\n",
       "    </tr>\n",
       "    <tr>\n",
       "      <th>4</th>\n",
       "      <td>3</td>\n",
       "      <td>0</td>\n",
       "    </tr>\n",
       "  </tbody>\n",
       "</table>\n",
       "</div>"
      ],
      "text/plain": [
       "   Pclass  Survived\n",
       "0       3         0\n",
       "1       1         1\n",
       "2       3         1\n",
       "3       1         1\n",
       "4       3         0"
      ]
     },
     "execution_count": 7,
     "metadata": {},
     "output_type": "execute_result"
    }
   ],
   "source": [
    "trainpclass.head()"
   ]
  },
  {
   "cell_type": "code",
   "execution_count": 8,
   "id": "909a0af4-1979-4304-8f98-ee5d239769c8",
   "metadata": {},
   "outputs": [
    {
     "data": {
      "text/html": [
       "<div>\n",
       "<style scoped>\n",
       "    .dataframe tbody tr th:only-of-type {\n",
       "        vertical-align: middle;\n",
       "    }\n",
       "\n",
       "    .dataframe tbody tr th {\n",
       "        vertical-align: top;\n",
       "    }\n",
       "\n",
       "    .dataframe thead th {\n",
       "        text-align: right;\n",
       "    }\n",
       "</style>\n",
       "<table border=\"1\" class=\"dataframe\">\n",
       "  <thead>\n",
       "    <tr style=\"text-align: right;\">\n",
       "      <th></th>\n",
       "      <th>Pclass</th>\n",
       "      <th>Survived</th>\n",
       "    </tr>\n",
       "  </thead>\n",
       "  <tbody>\n",
       "    <tr>\n",
       "      <th>count</th>\n",
       "      <td>891.000000</td>\n",
       "      <td>891.000000</td>\n",
       "    </tr>\n",
       "    <tr>\n",
       "      <th>mean</th>\n",
       "      <td>2.308642</td>\n",
       "      <td>0.383838</td>\n",
       "    </tr>\n",
       "    <tr>\n",
       "      <th>std</th>\n",
       "      <td>0.836071</td>\n",
       "      <td>0.486592</td>\n",
       "    </tr>\n",
       "    <tr>\n",
       "      <th>min</th>\n",
       "      <td>1.000000</td>\n",
       "      <td>0.000000</td>\n",
       "    </tr>\n",
       "    <tr>\n",
       "      <th>25%</th>\n",
       "      <td>2.000000</td>\n",
       "      <td>0.000000</td>\n",
       "    </tr>\n",
       "    <tr>\n",
       "      <th>50%</th>\n",
       "      <td>3.000000</td>\n",
       "      <td>0.000000</td>\n",
       "    </tr>\n",
       "    <tr>\n",
       "      <th>75%</th>\n",
       "      <td>3.000000</td>\n",
       "      <td>1.000000</td>\n",
       "    </tr>\n",
       "    <tr>\n",
       "      <th>max</th>\n",
       "      <td>3.000000</td>\n",
       "      <td>1.000000</td>\n",
       "    </tr>\n",
       "  </tbody>\n",
       "</table>\n",
       "</div>"
      ],
      "text/plain": [
       "           Pclass    Survived\n",
       "count  891.000000  891.000000\n",
       "mean     2.308642    0.383838\n",
       "std      0.836071    0.486592\n",
       "min      1.000000    0.000000\n",
       "25%      2.000000    0.000000\n",
       "50%      3.000000    0.000000\n",
       "75%      3.000000    1.000000\n",
       "max      3.000000    1.000000"
      ]
     },
     "execution_count": 8,
     "metadata": {},
     "output_type": "execute_result"
    }
   ],
   "source": [
    "trainpclass.describe()"
   ]
  },
  {
   "cell_type": "code",
   "execution_count": 9,
   "id": "4ba48321-3516-44f1-9769-8b2604a03818",
   "metadata": {},
   "outputs": [],
   "source": [
    "#Pclassの平均は2.3。１、２、３とチケットのグレードは下がる"
   ]
  },
  {
   "cell_type": "code",
   "execution_count": 10,
   "id": "f9c61f04-4c67-4fef-bee0-17562c3b3fab",
   "metadata": {},
   "outputs": [
    {
     "data": {
      "image/png": "[encoded data removed]",
      "text/plain": [
       "<Figure size 432x288 with 1 Axes>"
      ]
     },
     "metadata": {
      "needs_background": "light"
     },
     "output_type": "display_data"
    }
   ],
   "source": [
    "trainpclass[\"Pclass\"].hist()\n",
    "plt.show()#ヒストグラムを使いデータを可視化"
   ]
  },
  {
   "cell_type": "code",
   "execution_count": 11,
   "id": "d7a1b398-fdf1-4a5c-9bfa-5bc93a0c62ea",
   "metadata": {},
   "outputs": [],
   "source": [
    "#断然的にチケットクラス３の客が多かった。"
   ]
  },
  {
   "cell_type": "code",
   "execution_count": 12,
   "id": "3caf2005-10be-4133-a35f-513ae6c70e4a",
   "metadata": {
    "tags": []
   },
   "outputs": [
    {
     "data": {
      "image/png": "[encoded data removed]",
      "text/plain": [
       "<Figure size 432x288 with 1 Axes>"
      ]
     },
     "metadata": {
      "needs_background": "light"
     },
     "output_type": "display_data"
    }
   ],
   "source": [
    "sns.countplot(x=\"Pclass\", hue=\"Survived\", data=train )\n",
    "plt.show()#SurvivedとPclassを一緒にしたバーグラフを作成"
   ]
  },
  {
   "cell_type": "code",
   "execution_count": 13,
   "id": "e730d9a3-e199-4636-b78f-af0f872f88a0",
   "metadata": {},
   "outputs": [],
   "source": [
    "#チケットクラス３が圧倒的に死亡率が高かった。安いチケットの場合船の下の方に部屋があったらしく、そのせいで逃げ遅れたのかもしれない"
   ]
  },
  {
   "cell_type": "code",
   "execution_count": 14,
   "id": "7da93009-a30e-4cc1-9159-1ac5efa5f42a",
   "metadata": {},
   "outputs": [
    {
     "data": {
      "text/html": [
       "<div>\n",
       "<style scoped>\n",
       "    .dataframe tbody tr th:only-of-type {\n",
       "        vertical-align: middle;\n",
       "    }\n",
       "\n",
       "    .dataframe tbody tr th {\n",
       "        vertical-align: top;\n",
       "    }\n",
       "\n",
       "    .dataframe thead th {\n",
       "        text-align: right;\n",
       "    }\n",
       "</style>\n",
       "<table border=\"1\" class=\"dataframe\">\n",
       "  <thead>\n",
       "    <tr style=\"text-align: right;\">\n",
       "      <th>Pclass</th>\n",
       "      <th>1</th>\n",
       "      <th>2</th>\n",
       "      <th>3</th>\n",
       "    </tr>\n",
       "    <tr>\n",
       "      <th>Survived</th>\n",
       "      <th></th>\n",
       "      <th></th>\n",
       "      <th></th>\n",
       "    </tr>\n",
       "  </thead>\n",
       "  <tbody>\n",
       "    <tr>\n",
       "      <th>False</th>\n",
       "      <td>80</td>\n",
       "      <td>97</td>\n",
       "      <td>372</td>\n",
       "    </tr>\n",
       "    <tr>\n",
       "      <th>True</th>\n",
       "      <td>136</td>\n",
       "      <td>87</td>\n",
       "      <td>119</td>\n",
       "    </tr>\n",
       "  </tbody>\n",
       "</table>\n",
       "</div>"
      ],
      "text/plain": [
       "Pclass      1   2    3\n",
       "Survived              \n",
       "False      80  97  372\n",
       "True      136  87  119"
      ]
     },
     "execution_count": 14,
     "metadata": {},
     "output_type": "execute_result"
    }
   ],
   "source": [
    "pd.crosstab(trainpclass[\"Survived\"]==1, trainpclass[\"Pclass\"])#上のグラフをテーブルで表示"
   ]
  },
  {
   "cell_type": "code",
   "execution_count": 15,
   "id": "18c5737a-73b3-4436-b10c-f742330c5a27",
   "metadata": {},
   "outputs": [],
   "source": [
    "#Pclass1の場合半数以上が生き残り、３まで落ちると大半が亡くなった。チケットクラスは間違いなく生存率に影響を与える"
   ]
  },
  {
   "cell_type": "markdown",
   "id": "1f38babb-bfcd-468a-b488-519b35c43252",
   "metadata": {},
   "source": [
    "### Sex"
   ]
  },
  {
   "cell_type": "code",
   "execution_count": 16,
   "id": "32eb2e71-44a0-4278-ab57-649f69a8fd33",
   "metadata": {},
   "outputs": [],
   "source": [
    "trainsex = train[[\"Survived\", \"Sex\"]]#SexとSurvivedを抽出"
   ]
  },
  {
   "cell_type": "code",
   "execution_count": 17,
   "id": "7da8efe6-b72d-4e52-abe7-224fc54c70fa",
   "metadata": {},
   "outputs": [
    {
     "data": {
      "text/html": [
       "<div>\n",
       "<style scoped>\n",
       "    .dataframe tbody tr th:only-of-type {\n",
       "        vertical-align: middle;\n",
       "    }\n",
       "\n",
       "    .dataframe tbody tr th {\n",
       "        vertical-align: top;\n",
       "    }\n",
       "\n",
       "    .dataframe thead th {\n",
       "        text-align: right;\n",
       "    }\n",
       "</style>\n",
       "<table border=\"1\" class=\"dataframe\">\n",
       "  <thead>\n",
       "    <tr style=\"text-align: right;\">\n",
       "      <th></th>\n",
       "      <th>Survived</th>\n",
       "      <th>Sex</th>\n",
       "    </tr>\n",
       "  </thead>\n",
       "  <tbody>\n",
       "    <tr>\n",
       "      <th>0</th>\n",
       "      <td>0</td>\n",
       "      <td>male</td>\n",
       "    </tr>\n",
       "    <tr>\n",
       "      <th>1</th>\n",
       "      <td>1</td>\n",
       "      <td>female</td>\n",
       "    </tr>\n",
       "    <tr>\n",
       "      <th>2</th>\n",
       "      <td>1</td>\n",
       "      <td>female</td>\n",
       "    </tr>\n",
       "    <tr>\n",
       "      <th>3</th>\n",
       "      <td>1</td>\n",
       "      <td>female</td>\n",
       "    </tr>\n",
       "    <tr>\n",
       "      <th>4</th>\n",
       "      <td>0</td>\n",
       "      <td>male</td>\n",
       "    </tr>\n",
       "  </tbody>\n",
       "</table>\n",
       "</div>"
      ],
      "text/plain": [
       "   Survived     Sex\n",
       "0         0    male\n",
       "1         1  female\n",
       "2         1  female\n",
       "3         1  female\n",
       "4         0    male"
      ]
     },
     "execution_count": 17,
     "metadata": {},
     "output_type": "execute_result"
    }
   ],
   "source": [
    "trainsex.head()"
   ]
  },
  {
   "cell_type": "code",
   "execution_count": 18,
   "id": "7e1be97a-9b89-4271-bfd0-e36bd26f94c4",
   "metadata": {},
   "outputs": [
    {
     "data": {
      "image/png": "[encoded data removed]",
      "text/plain": [
       "<Figure size 432x288 with 1 Axes>"
      ]
     },
     "metadata": {
      "needs_background": "light"
     },
     "output_type": "display_data"
    }
   ],
   "source": [
    "sns.countplot(x=\"Sex\", hue = \"Survived\", data=train)\n",
    "plt.show()#生存率を性別で比較"
   ]
  },
  {
   "cell_type": "code",
   "execution_count": 19,
   "id": "b53a1873-ee3c-4d55-9aa2-83dd77bedab0",
   "metadata": {},
   "outputs": [],
   "source": [
    "#男性の方が圧倒的に死亡率が高かった"
   ]
  },
  {
   "cell_type": "code",
   "execution_count": 20,
   "id": "df27fe23-43b2-4be0-a6d3-d582f604b392",
   "metadata": {},
   "outputs": [
    {
     "data": {
      "text/html": [
       "<div>\n",
       "<style scoped>\n",
       "    .dataframe tbody tr th:only-of-type {\n",
       "        vertical-align: middle;\n",
       "    }\n",
       "\n",
       "    .dataframe tbody tr th {\n",
       "        vertical-align: top;\n",
       "    }\n",
       "\n",
       "    .dataframe thead th {\n",
       "        text-align: right;\n",
       "    }\n",
       "</style>\n",
       "<table border=\"1\" class=\"dataframe\">\n",
       "  <thead>\n",
       "    <tr style=\"text-align: right;\">\n",
       "      <th>Sex</th>\n",
       "      <th>female</th>\n",
       "      <th>male</th>\n",
       "    </tr>\n",
       "    <tr>\n",
       "      <th>Survived</th>\n",
       "      <th></th>\n",
       "      <th></th>\n",
       "    </tr>\n",
       "  </thead>\n",
       "  <tbody>\n",
       "    <tr>\n",
       "      <th>False</th>\n",
       "      <td>81</td>\n",
       "      <td>468</td>\n",
       "    </tr>\n",
       "    <tr>\n",
       "      <th>True</th>\n",
       "      <td>233</td>\n",
       "      <td>109</td>\n",
       "    </tr>\n",
       "  </tbody>\n",
       "</table>\n",
       "</div>"
      ],
      "text/plain": [
       "Sex       female  male\n",
       "Survived              \n",
       "False         81   468\n",
       "True         233   109"
      ]
     },
     "execution_count": 20,
     "metadata": {},
     "output_type": "execute_result"
    }
   ],
   "source": [
    "pd.crosstab(train[\"Survived\"]==1, train[\"Sex\"])#上のグラフをテーブルで表示"
   ]
  },
  {
   "cell_type": "code",
   "execution_count": 21,
   "id": "a279ad97-fdcc-4e90-b237-fc6299432749",
   "metadata": {},
   "outputs": [],
   "source": [
    "#結果的に女性の生存率は男性のに比べ明らかに高かった。性別は生存率に大きく影響すると言える"
   ]
  },
  {
   "cell_type": "markdown",
   "id": "c7528bc7-6138-4bf8-96a1-f7743accbe58",
   "metadata": {},
   "source": [
    "### Age"
   ]
  },
  {
   "cell_type": "code",
   "execution_count": 22,
   "id": "61883f7c-d66c-4480-b9bb-0ecaf187901b",
   "metadata": {},
   "outputs": [],
   "source": [
    "titanic_age = train[[\"Age\", \"Survived\"]]#AgeとSurvivedを抽出"
   ]
  },
  {
   "cell_type": "code",
   "execution_count": 23,
   "id": "f9f63ba7-c710-47e3-965a-b55b246a24ec",
   "metadata": {},
   "outputs": [
    {
     "data": {
      "text/html": [
       "<div>\n",
       "<style scoped>\n",
       "    .dataframe tbody tr th:only-of-type {\n",
       "        vertical-align: middle;\n",
       "    }\n",
       "\n",
       "    .dataframe tbody tr th {\n",
       "        vertical-align: top;\n",
       "    }\n",
       "\n",
       "    .dataframe thead th {\n",
       "        text-align: right;\n",
       "    }\n",
       "</style>\n",
       "<table border=\"1\" class=\"dataframe\">\n",
       "  <thead>\n",
       "    <tr style=\"text-align: right;\">\n",
       "      <th></th>\n",
       "      <th>Age</th>\n",
       "      <th>Survived</th>\n",
       "    </tr>\n",
       "  </thead>\n",
       "  <tbody>\n",
       "    <tr>\n",
       "      <th>0</th>\n",
       "      <td>22.0</td>\n",
       "      <td>0</td>\n",
       "    </tr>\n",
       "    <tr>\n",
       "      <th>1</th>\n",
       "      <td>38.0</td>\n",
       "      <td>1</td>\n",
       "    </tr>\n",
       "    <tr>\n",
       "      <th>2</th>\n",
       "      <td>26.0</td>\n",
       "      <td>1</td>\n",
       "    </tr>\n",
       "    <tr>\n",
       "      <th>3</th>\n",
       "      <td>35.0</td>\n",
       "      <td>1</td>\n",
       "    </tr>\n",
       "    <tr>\n",
       "      <th>4</th>\n",
       "      <td>35.0</td>\n",
       "      <td>0</td>\n",
       "    </tr>\n",
       "  </tbody>\n",
       "</table>\n",
       "</div>"
      ],
      "text/plain": [
       "    Age  Survived\n",
       "0  22.0         0\n",
       "1  38.0         1\n",
       "2  26.0         1\n",
       "3  35.0         1\n",
       "4  35.0         0"
      ]
     },
     "execution_count": 23,
     "metadata": {},
     "output_type": "execute_result"
    }
   ],
   "source": [
    "titanic_age.head()"
   ]
  },
  {
   "cell_type": "code",
   "execution_count": 24,
   "id": "74d63e11-553a-41d7-a948-ac3889387c6e",
   "metadata": {},
   "outputs": [
    {
     "data": {
      "text/html": [
       "<div>\n",
       "<style scoped>\n",
       "    .dataframe tbody tr th:only-of-type {\n",
       "        vertical-align: middle;\n",
       "    }\n",
       "\n",
       "    .dataframe tbody tr th {\n",
       "        vertical-align: top;\n",
       "    }\n",
       "\n",
       "    .dataframe thead th {\n",
       "        text-align: right;\n",
       "    }\n",
       "</style>\n",
       "<table border=\"1\" class=\"dataframe\">\n",
       "  <thead>\n",
       "    <tr style=\"text-align: right;\">\n",
       "      <th></th>\n",
       "      <th>Age</th>\n",
       "      <th>Survived</th>\n",
       "    </tr>\n",
       "  </thead>\n",
       "  <tbody>\n",
       "    <tr>\n",
       "      <th>count</th>\n",
       "      <td>714.000000</td>\n",
       "      <td>891.000000</td>\n",
       "    </tr>\n",
       "    <tr>\n",
       "      <th>mean</th>\n",
       "      <td>29.699118</td>\n",
       "      <td>0.383838</td>\n",
       "    </tr>\n",
       "    <tr>\n",
       "      <th>std</th>\n",
       "      <td>14.526497</td>\n",
       "      <td>0.486592</td>\n",
       "    </tr>\n",
       "    <tr>\n",
       "      <th>min</th>\n",
       "      <td>0.420000</td>\n",
       "      <td>0.000000</td>\n",
       "    </tr>\n",
       "    <tr>\n",
       "      <th>25%</th>\n",
       "      <td>20.125000</td>\n",
       "      <td>0.000000</td>\n",
       "    </tr>\n",
       "    <tr>\n",
       "      <th>50%</th>\n",
       "      <td>28.000000</td>\n",
       "      <td>0.000000</td>\n",
       "    </tr>\n",
       "    <tr>\n",
       "      <th>75%</th>\n",
       "      <td>38.000000</td>\n",
       "      <td>1.000000</td>\n",
       "    </tr>\n",
       "    <tr>\n",
       "      <th>max</th>\n",
       "      <td>80.000000</td>\n",
       "      <td>1.000000</td>\n",
       "    </tr>\n",
       "  </tbody>\n",
       "</table>\n",
       "</div>"
      ],
      "text/plain": [
       "              Age    Survived\n",
       "count  714.000000  891.000000\n",
       "mean    29.699118    0.383838\n",
       "std     14.526497    0.486592\n",
       "min      0.420000    0.000000\n",
       "25%     20.125000    0.000000\n",
       "50%     28.000000    0.000000\n",
       "75%     38.000000    1.000000\n",
       "max     80.000000    1.000000"
      ]
     },
     "execution_count": 24,
     "metadata": {},
     "output_type": "execute_result"
    }
   ],
   "source": [
    "titanic_age.describe()"
   ]
  },
  {
   "cell_type": "code",
   "execution_count": 25,
   "id": "ea6196d7-5e5e-45cd-914b-7042132598aa",
   "metadata": {},
   "outputs": [
    {
     "data": {
      "image/png": "[encoded data removed]",
      "text/plain": [
       "<Figure size 432x288 with 1 Axes>"
      ]
     },
     "metadata": {
      "needs_background": "light"
     },
     "output_type": "display_data"
    }
   ],
   "source": [
    "train[\"Age\"].hist(bins=80)\n",
    "plt.show()#年齢層をhistogramで可視化"
   ]
  },
  {
   "cell_type": "code",
   "execution_count": 26,
   "id": "70dbbfa1-9b6b-46a2-8194-1c6f6dc0dc9e",
   "metadata": {},
   "outputs": [],
   "source": [
    "titanic_age_survived = titanic_age[titanic_age[\"Survived\"]==0]"
   ]
  },
  {
   "cell_type": "code",
   "execution_count": 27,
   "id": "a6198e8b-6364-436a-b506-03e83fbe3c62",
   "metadata": {},
   "outputs": [
    {
     "data": {
      "text/html": [
       "<div>\n",
       "<style scoped>\n",
       "    .dataframe tbody tr th:only-of-type {\n",
       "        vertical-align: middle;\n",
       "    }\n",
       "\n",
       "    .dataframe tbody tr th {\n",
       "        vertical-align: top;\n",
       "    }\n",
       "\n",
       "    .dataframe thead th {\n",
       "        text-align: right;\n",
       "    }\n",
       "</style>\n",
       "<table border=\"1\" class=\"dataframe\">\n",
       "  <thead>\n",
       "    <tr style=\"text-align: right;\">\n",
       "      <th></th>\n",
       "      <th>Age</th>\n",
       "      <th>Survived</th>\n",
       "    </tr>\n",
       "  </thead>\n",
       "  <tbody>\n",
       "    <tr>\n",
       "      <th>count</th>\n",
       "      <td>424.000000</td>\n",
       "      <td>549.0</td>\n",
       "    </tr>\n",
       "    <tr>\n",
       "      <th>mean</th>\n",
       "      <td>30.626179</td>\n",
       "      <td>0.0</td>\n",
       "    </tr>\n",
       "    <tr>\n",
       "      <th>std</th>\n",
       "      <td>14.172110</td>\n",
       "      <td>0.0</td>\n",
       "    </tr>\n",
       "    <tr>\n",
       "      <th>min</th>\n",
       "      <td>1.000000</td>\n",
       "      <td>0.0</td>\n",
       "    </tr>\n",
       "    <tr>\n",
       "      <th>25%</th>\n",
       "      <td>21.000000</td>\n",
       "      <td>0.0</td>\n",
       "    </tr>\n",
       "    <tr>\n",
       "      <th>50%</th>\n",
       "      <td>28.000000</td>\n",
       "      <td>0.0</td>\n",
       "    </tr>\n",
       "    <tr>\n",
       "      <th>75%</th>\n",
       "      <td>39.000000</td>\n",
       "      <td>0.0</td>\n",
       "    </tr>\n",
       "    <tr>\n",
       "      <th>max</th>\n",
       "      <td>74.000000</td>\n",
       "      <td>0.0</td>\n",
       "    </tr>\n",
       "  </tbody>\n",
       "</table>\n",
       "</div>"
      ],
      "text/plain": [
       "              Age  Survived\n",
       "count  424.000000     549.0\n",
       "mean    30.626179       0.0\n",
       "std     14.172110       0.0\n",
       "min      1.000000       0.0\n",
       "25%     21.000000       0.0\n",
       "50%     28.000000       0.0\n",
       "75%     39.000000       0.0\n",
       "max     74.000000       0.0"
      ]
     },
     "execution_count": 27,
     "metadata": {},
     "output_type": "execute_result"
    }
   ],
   "source": [
    "titanic_age_survived.describe()#死者の平均年齢"
   ]
  },
  {
   "cell_type": "code",
   "execution_count": 28,
   "id": "0e9bd70f-232a-4ad7-b68c-a48ddad4f89b",
   "metadata": {},
   "outputs": [],
   "source": [
    "titanic_age_deceased = titanic_age[titanic_age[\"Survived\"]==1]"
   ]
  },
  {
   "cell_type": "code",
   "execution_count": 29,
   "id": "197efedb-90c4-4203-8913-fe52d7378d1c",
   "metadata": {},
   "outputs": [
    {
     "data": {
      "text/html": [
       "<div>\n",
       "<style scoped>\n",
       "    .dataframe tbody tr th:only-of-type {\n",
       "        vertical-align: middle;\n",
       "    }\n",
       "\n",
       "    .dataframe tbody tr th {\n",
       "        vertical-align: top;\n",
       "    }\n",
       "\n",
       "    .dataframe thead th {\n",
       "        text-align: right;\n",
       "    }\n",
       "</style>\n",
       "<table border=\"1\" class=\"dataframe\">\n",
       "  <thead>\n",
       "    <tr style=\"text-align: right;\">\n",
       "      <th></th>\n",
       "      <th>Age</th>\n",
       "      <th>Survived</th>\n",
       "    </tr>\n",
       "  </thead>\n",
       "  <tbody>\n",
       "    <tr>\n",
       "      <th>count</th>\n",
       "      <td>290.000000</td>\n",
       "      <td>342.0</td>\n",
       "    </tr>\n",
       "    <tr>\n",
       "      <th>mean</th>\n",
       "      <td>28.343690</td>\n",
       "      <td>1.0</td>\n",
       "    </tr>\n",
       "    <tr>\n",
       "      <th>std</th>\n",
       "      <td>14.950952</td>\n",
       "      <td>0.0</td>\n",
       "    </tr>\n",
       "    <tr>\n",
       "      <th>min</th>\n",
       "      <td>0.420000</td>\n",
       "      <td>1.0</td>\n",
       "    </tr>\n",
       "    <tr>\n",
       "      <th>25%</th>\n",
       "      <td>19.000000</td>\n",
       "      <td>1.0</td>\n",
       "    </tr>\n",
       "    <tr>\n",
       "      <th>50%</th>\n",
       "      <td>28.000000</td>\n",
       "      <td>1.0</td>\n",
       "    </tr>\n",
       "    <tr>\n",
       "      <th>75%</th>\n",
       "      <td>36.000000</td>\n",
       "      <td>1.0</td>\n",
       "    </tr>\n",
       "    <tr>\n",
       "      <th>max</th>\n",
       "      <td>80.000000</td>\n",
       "      <td>1.0</td>\n",
       "    </tr>\n",
       "  </tbody>\n",
       "</table>\n",
       "</div>"
      ],
      "text/plain": [
       "              Age  Survived\n",
       "count  290.000000     342.0\n",
       "mean    28.343690       1.0\n",
       "std     14.950952       0.0\n",
       "min      0.420000       1.0\n",
       "25%     19.000000       1.0\n",
       "50%     28.000000       1.0\n",
       "75%     36.000000       1.0\n",
       "max     80.000000       1.0"
      ]
     },
     "execution_count": 29,
     "metadata": {},
     "output_type": "execute_result"
    }
   ],
   "source": [
    "titanic_age_deceased.describe()#生存者の平均年齢"
   ]
  },
  {
   "cell_type": "code",
   "execution_count": 30,
   "id": "141452a5-e777-4084-b660-ff21ece77ae6",
   "metadata": {},
   "outputs": [],
   "source": [
    "#死者の平均年齢が　30.6歳、生存者の平均年齢は　28.3歳。わずかだか若い方が生存率が高い。"
   ]
  },
  {
   "cell_type": "code",
   "execution_count": 31,
   "id": "1d91c291-3dc9-44ed-b3b1-8628e88374f6",
   "metadata": {},
   "outputs": [],
   "source": [
    "titanic_age_children = titanic_age[titanic_age[\"Age\"]<=13]#子供のデータだけを抽出（子供は１３歳以下と仮定）"
   ]
  },
  {
   "cell_type": "code",
   "execution_count": 32,
   "id": "e7dde34c-cbbe-4be1-a8bd-58eb9dd3eaf6",
   "metadata": {},
   "outputs": [
    {
     "data": {
      "text/plain": [
       "71"
      ]
     },
     "execution_count": 32,
     "metadata": {},
     "output_type": "execute_result"
    }
   ],
   "source": [
    "len(titanic_age_children[\"Survived\"])"
   ]
  },
  {
   "cell_type": "code",
   "execution_count": 33,
   "id": "5d8c0bc2-b7f0-4901-ac45-38010df84f41",
   "metadata": {},
   "outputs": [
    {
     "data": {
      "text/plain": [
       "42"
      ]
     },
     "execution_count": 33,
     "metadata": {},
     "output_type": "execute_result"
    }
   ],
   "source": [
    "len(titanic_age_children[titanic_age_children[\"Survived\"]==1])"
   ]
  },
  {
   "cell_type": "code",
   "execution_count": 34,
   "id": "38166d1a-fcfa-4879-bd14-38dfff8c9409",
   "metadata": {},
   "outputs": [
    {
     "data": {
      "text/plain": [
       "0.5915492957746479"
      ]
     },
     "execution_count": 34,
     "metadata": {},
     "output_type": "execute_result"
    }
   ],
   "source": [
    "42/71"
   ]
  },
  {
   "cell_type": "code",
   "execution_count": 35,
   "id": "b0cd4cd5-29c0-4c07-ba5d-e937a955ec94",
   "metadata": {},
   "outputs": [
    {
     "data": {
      "text/plain": [
       "891"
      ]
     },
     "execution_count": 35,
     "metadata": {},
     "output_type": "execute_result"
    }
   ],
   "source": [
    "len(train[\"Survived\"])"
   ]
  },
  {
   "cell_type": "code",
   "execution_count": 36,
   "id": "756d6237-5fc7-4ca8-acb0-bad090fc2224",
   "metadata": {},
   "outputs": [
    {
     "data": {
      "text/plain": [
       "342"
      ]
     },
     "execution_count": 36,
     "metadata": {},
     "output_type": "execute_result"
    }
   ],
   "source": [
    "len(train[train[\"Survived\"]==1])"
   ]
  },
  {
   "cell_type": "code",
   "execution_count": 37,
   "id": "181e27f3-02dd-4376-afa4-fefe8a3dd777",
   "metadata": {},
   "outputs": [
    {
     "data": {
      "text/plain": [
       "0.3838383838383838"
      ]
     },
     "execution_count": 37,
     "metadata": {},
     "output_type": "execute_result"
    }
   ],
   "source": [
    "342/891"
   ]
  },
  {
   "cell_type": "code",
   "execution_count": 38,
   "id": "b86fb109-a5cf-4fba-aabb-ced9e44db1eb",
   "metadata": {},
   "outputs": [],
   "source": [
    "#子供(１３歳以下）の生存率は 59%。全体生存率は38%。明らかに子供の方が生存率は高い"
   ]
  },
  {
   "cell_type": "code",
   "execution_count": 39,
   "id": "174086a1-3415-4566-afb2-95977af975fa",
   "metadata": {},
   "outputs": [],
   "source": [
    "titanic_little = titanic_age[titanic_age[\"Age\"]<=5]#５歳以下の子供のデータを抽出"
   ]
  },
  {
   "cell_type": "code",
   "execution_count": 40,
   "id": "a7e75321-b1d1-400e-98b7-c872ae3c9ca7",
   "metadata": {},
   "outputs": [
    {
     "data": {
      "text/plain": [
       "44"
      ]
     },
     "execution_count": 40,
     "metadata": {},
     "output_type": "execute_result"
    }
   ],
   "source": [
    "len(titanic_little)"
   ]
  },
  {
   "cell_type": "code",
   "execution_count": 41,
   "id": "68276f1e-e771-4d12-8b89-2507280e4ed4",
   "metadata": {},
   "outputs": [
    {
     "data": {
      "text/plain": [
       "31"
      ]
     },
     "execution_count": 41,
     "metadata": {},
     "output_type": "execute_result"
    }
   ],
   "source": [
    "len(titanic_little[titanic_little[\"Survived\"]==1])"
   ]
  },
  {
   "cell_type": "code",
   "execution_count": 42,
   "id": "f51a6b4d-9a45-4dba-af45-64a6fea90d53",
   "metadata": {},
   "outputs": [
    {
     "data": {
      "text/plain": [
       "0.7045454545454546"
      ]
     },
     "execution_count": 42,
     "metadata": {},
     "output_type": "execute_result"
    }
   ],
   "source": [
    "31/44"
   ]
  },
  {
   "cell_type": "code",
   "execution_count": 43,
   "id": "ff2f3c61-8de5-4e7b-88d3-07d4b31ded5b",
   "metadata": {},
   "outputs": [],
   "source": [
    "#５歳以下の子供に限定すると生存率は　70.4%。小さな子供の避難を優先していたと思われる"
   ]
  },
  {
   "cell_type": "markdown",
   "id": "be155e6e-efea-4e5b-8aed-3ffbb056da39",
   "metadata": {},
   "source": [
    "### SibSp"
   ]
  },
  {
   "cell_type": "code",
   "execution_count": 44,
   "id": "8ac82267-881f-4a32-aace-6486b2749809",
   "metadata": {},
   "outputs": [],
   "source": [
    "titanic_sibsp = train[[\"SibSp\", \"Survived\"]]#SibspとSurvivedを抽出"
   ]
  },
  {
   "cell_type": "code",
   "execution_count": 45,
   "id": "7a94caa7-28ae-4933-a916-e72abb8728e4",
   "metadata": {},
   "outputs": [
    {
     "data": {
      "text/html": [
       "<div>\n",
       "<style scoped>\n",
       "    .dataframe tbody tr th:only-of-type {\n",
       "        vertical-align: middle;\n",
       "    }\n",
       "\n",
       "    .dataframe tbody tr th {\n",
       "        vertical-align: top;\n",
       "    }\n",
       "\n",
       "    .dataframe thead th {\n",
       "        text-align: right;\n",
       "    }\n",
       "</style>\n",
       "<table border=\"1\" class=\"dataframe\">\n",
       "  <thead>\n",
       "    <tr style=\"text-align: right;\">\n",
       "      <th></th>\n",
       "      <th>SibSp</th>\n",
       "      <th>Survived</th>\n",
       "    </tr>\n",
       "  </thead>\n",
       "  <tbody>\n",
       "    <tr>\n",
       "      <th>0</th>\n",
       "      <td>1</td>\n",
       "      <td>0</td>\n",
       "    </tr>\n",
       "    <tr>\n",
       "      <th>1</th>\n",
       "      <td>1</td>\n",
       "      <td>1</td>\n",
       "    </tr>\n",
       "    <tr>\n",
       "      <th>2</th>\n",
       "      <td>0</td>\n",
       "      <td>1</td>\n",
       "    </tr>\n",
       "    <tr>\n",
       "      <th>3</th>\n",
       "      <td>1</td>\n",
       "      <td>1</td>\n",
       "    </tr>\n",
       "    <tr>\n",
       "      <th>4</th>\n",
       "      <td>0</td>\n",
       "      <td>0</td>\n",
       "    </tr>\n",
       "  </tbody>\n",
       "</table>\n",
       "</div>"
      ],
      "text/plain": [
       "   SibSp  Survived\n",
       "0      1         0\n",
       "1      1         1\n",
       "2      0         1\n",
       "3      1         1\n",
       "4      0         0"
      ]
     },
     "execution_count": 45,
     "metadata": {},
     "output_type": "execute_result"
    }
   ],
   "source": [
    "titanic_sibsp.head()"
   ]
  },
  {
   "cell_type": "code",
   "execution_count": 46,
   "id": "bad74a06-3e45-4581-a961-8f746c0bfff6",
   "metadata": {},
   "outputs": [
    {
     "data": {
      "image/png": "[encoded data removed]",
      "text/plain": [
       "<Figure size 432x288 with 1 Axes>"
      ]
     },
     "metadata": {
      "needs_background": "light"
     },
     "output_type": "display_data"
    }
   ],
   "source": [
    "sns.countplot(x=\"SibSp\", hue=\"Survived\", data=train)#SibSpの数と生存率を可視化\n",
    "plt.show()"
   ]
  },
  {
   "cell_type": "code",
   "execution_count": 47,
   "id": "20b44f7b-1ed7-4305-9149-b181228a5bf8",
   "metadata": {},
   "outputs": [],
   "source": [
    "titanic_sibsp_0 = titanic_sibsp[titanic_sibsp[\"SibSp\"]==0]#兄弟、または配偶者が０人のデータを抽出"
   ]
  },
  {
   "cell_type": "code",
   "execution_count": 48,
   "id": "0363dad4-f7ca-4418-8cfa-de7599625f5e",
   "metadata": {},
   "outputs": [
    {
     "data": {
      "text/plain": [
       "608"
      ]
     },
     "execution_count": 48,
     "metadata": {},
     "output_type": "execute_result"
    }
   ],
   "source": [
    "len(titanic_sibsp_0)"
   ]
  },
  {
   "cell_type": "code",
   "execution_count": 49,
   "id": "b76e13da-6405-4c18-aece-53f47cce61a1",
   "metadata": {},
   "outputs": [
    {
     "data": {
      "text/plain": [
       "210"
      ]
     },
     "execution_count": 49,
     "metadata": {},
     "output_type": "execute_result"
    }
   ],
   "source": [
    "len(titanic_sibsp_0[titanic_sibsp_0[\"Survived\"]==1])"
   ]
  },
  {
   "cell_type": "code",
   "execution_count": 50,
   "id": "728d9484-c753-4966-8ee0-83c8958e7e28",
   "metadata": {},
   "outputs": [
    {
     "data": {
      "text/plain": [
       "0.34539473684210525"
      ]
     },
     "execution_count": 50,
     "metadata": {},
     "output_type": "execute_result"
    }
   ],
   "source": [
    "210/608"
   ]
  },
  {
   "cell_type": "code",
   "execution_count": 51,
   "id": "55d4182e-9142-4c03-87e3-46e03af02b0d",
   "metadata": {},
   "outputs": [],
   "source": [
    "#兄弟、または配偶者が０人だった場合の生存率は 34.5%"
   ]
  },
  {
   "cell_type": "code",
   "execution_count": 52,
   "id": "af3603b9-fa2b-4590-aa9d-99ad9b11244d",
   "metadata": {},
   "outputs": [],
   "source": [
    "titanic_sibsp_true = titanic_sibsp[titanic_sibsp[\"SibSp\"]>=1]"
   ]
  },
  {
   "cell_type": "code",
   "execution_count": 53,
   "id": "d9df493e-9aca-4127-9d04-d3a2d3abec83",
   "metadata": {},
   "outputs": [
    {
     "data": {
      "text/plain": [
       "283"
      ]
     },
     "execution_count": 53,
     "metadata": {},
     "output_type": "execute_result"
    }
   ],
   "source": [
    "len(titanic_sibsp_true)"
   ]
  },
  {
   "cell_type": "code",
   "execution_count": 54,
   "id": "227f3328-85bd-40eb-9732-1c0b7f363a29",
   "metadata": {},
   "outputs": [
    {
     "data": {
      "text/plain": [
       "132"
      ]
     },
     "execution_count": 54,
     "metadata": {},
     "output_type": "execute_result"
    }
   ],
   "source": [
    "len(titanic_sibsp_true[titanic_sibsp_true[\"Survived\"]==1])"
   ]
  },
  {
   "cell_type": "code",
   "execution_count": 55,
   "id": "6896b937-fb02-4581-bc40-def5f56edfe1",
   "metadata": {},
   "outputs": [
    {
     "data": {
      "text/plain": [
       "0.4664310954063604"
      ]
     },
     "execution_count": 55,
     "metadata": {},
     "output_type": "execute_result"
    }
   ],
   "source": [
    "132/283"
   ]
  },
  {
   "cell_type": "code",
   "execution_count": 56,
   "id": "b463ba78-8514-4d46-ac76-788f25c7df5a",
   "metadata": {},
   "outputs": [],
   "source": [
    "#兄弟、または配偶者が１人以上だった場合の生存率は 46.6%.明らかにSibSpがいない人より生存率が高い"
   ]
  },
  {
   "cell_type": "code",
   "execution_count": 57,
   "id": "d133c838-f129-4997-832f-5800d0822dd5",
   "metadata": {},
   "outputs": [],
   "source": [
    "titanic_sibsp_more = titanic_sibsp[titanic_sibsp[\"SibSp\"]>=2]#兄弟、または配偶者が２人以上のデータを抽出"
   ]
  },
  {
   "cell_type": "code",
   "execution_count": 58,
   "id": "8fe59463-8026-40ee-84fd-de6dd1eb385b",
   "metadata": {},
   "outputs": [
    {
     "data": {
      "text/plain": [
       "74"
      ]
     },
     "execution_count": 58,
     "metadata": {},
     "output_type": "execute_result"
    }
   ],
   "source": [
    "len(titanic_sibsp_more)"
   ]
  },
  {
   "cell_type": "code",
   "execution_count": 59,
   "id": "627432ea-ed29-4490-a392-dcdcd508609d",
   "metadata": {},
   "outputs": [
    {
     "data": {
      "text/plain": [
       "20"
      ]
     },
     "execution_count": 59,
     "metadata": {},
     "output_type": "execute_result"
    }
   ],
   "source": [
    "len(titanic_sibsp_more[titanic_sibsp_more[\"Survived\"]==1])"
   ]
  },
  {
   "cell_type": "code",
   "execution_count": 60,
   "id": "a523a3ee-0a40-4dec-b97c-3d2a0dd1d655",
   "metadata": {},
   "outputs": [
    {
     "data": {
      "text/plain": [
       "0.2702702702702703"
      ]
     },
     "execution_count": 60,
     "metadata": {},
     "output_type": "execute_result"
    }
   ],
   "source": [
    "20/74"
   ]
  },
  {
   "cell_type": "code",
   "execution_count": 61,
   "id": "7a918eb0-41ee-4ce0-ac0e-c00423d705e4",
   "metadata": {},
   "outputs": [],
   "source": [
    "#兄弟、または配偶者が２人以上の場合の生存率は　27.0%と1人の場合よりかなり低い。全員助かろうとしたしたせいで生存率が低いのかもしれない\n",
    "#結果的にSibSpが1人の場合の生存率が一番高い"
   ]
  },
  {
   "cell_type": "markdown",
   "id": "a1b95f6a-22a6-4fea-903a-f233c65519f5",
   "metadata": {},
   "source": [
    "### Parch"
   ]
  },
  {
   "cell_type": "code",
   "execution_count": 62,
   "id": "05dc8ffb-ed4a-48a8-9138-ada592790ab5",
   "metadata": {},
   "outputs": [],
   "source": [
    "titanic_parch = train[[\"Parch\",\"Survived\"]]#ParchとSurvivedを抽出"
   ]
  },
  {
   "cell_type": "code",
   "execution_count": 63,
   "id": "990f553c-8eeb-4a84-b7af-797fa651ad56",
   "metadata": {},
   "outputs": [
    {
     "data": {
      "text/html": [
       "<div>\n",
       "<style scoped>\n",
       "    .dataframe tbody tr th:only-of-type {\n",
       "        vertical-align: middle;\n",
       "    }\n",
       "\n",
       "    .dataframe tbody tr th {\n",
       "        vertical-align: top;\n",
       "    }\n",
       "\n",
       "    .dataframe thead th {\n",
       "        text-align: right;\n",
       "    }\n",
       "</style>\n",
       "<table border=\"1\" class=\"dataframe\">\n",
       "  <thead>\n",
       "    <tr style=\"text-align: right;\">\n",
       "      <th></th>\n",
       "      <th>Parch</th>\n",
       "      <th>Survived</th>\n",
       "    </tr>\n",
       "  </thead>\n",
       "  <tbody>\n",
       "    <tr>\n",
       "      <th>0</th>\n",
       "      <td>0</td>\n",
       "      <td>0</td>\n",
       "    </tr>\n",
       "    <tr>\n",
       "      <th>1</th>\n",
       "      <td>0</td>\n",
       "      <td>1</td>\n",
       "    </tr>\n",
       "    <tr>\n",
       "      <th>2</th>\n",
       "      <td>0</td>\n",
       "      <td>1</td>\n",
       "    </tr>\n",
       "    <tr>\n",
       "      <th>3</th>\n",
       "      <td>0</td>\n",
       "      <td>1</td>\n",
       "    </tr>\n",
       "    <tr>\n",
       "      <th>4</th>\n",
       "      <td>0</td>\n",
       "      <td>0</td>\n",
       "    </tr>\n",
       "  </tbody>\n",
       "</table>\n",
       "</div>"
      ],
      "text/plain": [
       "   Parch  Survived\n",
       "0      0         0\n",
       "1      0         1\n",
       "2      0         1\n",
       "3      0         1\n",
       "4      0         0"
      ]
     },
     "execution_count": 63,
     "metadata": {},
     "output_type": "execute_result"
    }
   ],
   "source": [
    "titanic_parch.head()"
   ]
  },
  {
   "cell_type": "code",
   "execution_count": 64,
   "id": "dfe2d6fa-7cbf-41fd-9604-5e7dadf9e12f",
   "metadata": {},
   "outputs": [
    {
     "data": {
      "image/png": "[encoded data removed]",
      "text/plain": [
       "<Figure size 432x288 with 1 Axes>"
      ]
     },
     "metadata": {
      "needs_background": "light"
     },
     "output_type": "display_data"
    }
   ],
   "source": [
    "sns.countplot(x=\"Parch\", hue=\"Survived\", data=titanic_parch)\n",
    "plt.show()"
   ]
  },
  {
   "cell_type": "code",
   "execution_count": 65,
   "id": "d1116355-7bbe-41e0-ab33-37c5f6f06f46",
   "metadata": {},
   "outputs": [],
   "source": [
    "titanic_parch_0 = titanic_parch[titanic_parch[\"Parch\"]==0]#親、または子供が０人のデータを抽出"
   ]
  },
  {
   "cell_type": "code",
   "execution_count": 66,
   "id": "1a949340-00f5-4fa8-ae85-fb7e2fae9752",
   "metadata": {},
   "outputs": [
    {
     "data": {
      "text/plain": [
       "678"
      ]
     },
     "execution_count": 66,
     "metadata": {},
     "output_type": "execute_result"
    }
   ],
   "source": [
    "len(titanic_parch_0)"
   ]
  },
  {
   "cell_type": "code",
   "execution_count": 67,
   "id": "881ec707-62bd-4d7a-ab4e-07ac5b560b92",
   "metadata": {},
   "outputs": [
    {
     "data": {
      "text/plain": [
       "233"
      ]
     },
     "execution_count": 67,
     "metadata": {},
     "output_type": "execute_result"
    }
   ],
   "source": [
    "len(titanic_parch_0[titanic_parch_0[\"Survived\"]==1])"
   ]
  },
  {
   "cell_type": "code",
   "execution_count": 68,
   "id": "62c9b053-49ac-43ca-8ac7-b06d11c451ad",
   "metadata": {},
   "outputs": [
    {
     "data": {
      "text/plain": [
       "0.34365781710914456"
      ]
     },
     "execution_count": 68,
     "metadata": {},
     "output_type": "execute_result"
    }
   ],
   "source": [
    "233/678"
   ]
  },
  {
   "cell_type": "code",
   "execution_count": 69,
   "id": "1e0b3a29-4b80-4241-b6f9-2b277688d0e0",
   "metadata": {},
   "outputs": [],
   "source": [
    "#親、または子供が０人の場合の生存率は 34.3%"
   ]
  },
  {
   "cell_type": "code",
   "execution_count": 70,
   "id": "86330e70-c007-44ed-81dc-a5f13899d431",
   "metadata": {},
   "outputs": [],
   "source": [
    "titanic_parch_true = titanic_parch[titanic_parch[\"Parch\"]==1]#親、または子供が１人のデータを抽出"
   ]
  },
  {
   "cell_type": "code",
   "execution_count": 71,
   "id": "18bfc02b-76b1-48f0-97d8-4ad7f531f411",
   "metadata": {},
   "outputs": [
    {
     "data": {
      "text/plain": [
       "118"
      ]
     },
     "execution_count": 71,
     "metadata": {},
     "output_type": "execute_result"
    }
   ],
   "source": [
    "len(titanic_parch_true)"
   ]
  },
  {
   "cell_type": "code",
   "execution_count": 72,
   "id": "7f15a8fe-0415-459a-bc2a-9812f72f2781",
   "metadata": {},
   "outputs": [
    {
     "data": {
      "text/plain": [
       "65"
      ]
     },
     "execution_count": 72,
     "metadata": {},
     "output_type": "execute_result"
    }
   ],
   "source": [
    "len(titanic_parch_true[titanic_parch_true[\"Survived\"]==1])"
   ]
  },
  {
   "cell_type": "code",
   "execution_count": 73,
   "id": "b8e81d89-0681-4317-9d93-06cc50dc74da",
   "metadata": {},
   "outputs": [
    {
     "data": {
      "text/plain": [
       "0.5508474576271186"
      ]
     },
     "execution_count": 73,
     "metadata": {},
     "output_type": "execute_result"
    }
   ],
   "source": [
    "65/118"
   ]
  },
  {
   "cell_type": "code",
   "execution_count": 74,
   "id": "56e89232-ab76-40f2-ad85-17d99f946cc7",
   "metadata": {},
   "outputs": [],
   "source": [
    "#親、または子供が１人の場合の生存率は 55.1%。Parchがいない人よりかなり高い。上記のグラフを見る限り、Parch1人の方が２人より生存率が高い"
   ]
  },
  {
   "cell_type": "code",
   "execution_count": 75,
   "id": "8fdd66ec-c797-434f-bfb8-e35bd24d3183",
   "metadata": {},
   "outputs": [],
   "source": [
    "#女性でParch(主に子供と仮定)がいた場合生存率は上がるのか（一緒に避難した可能性がある）"
   ]
  },
  {
   "cell_type": "code",
   "execution_count": 76,
   "id": "3995917e-f490-4a3e-91d1-03e133cbe737",
   "metadata": {},
   "outputs": [],
   "source": [
    "titanic_parch_sex = train[[\"Survived\",\"Parch\",\"Sex\"]]#生存率、Parch, Sexのデータを抽出"
   ]
  },
  {
   "cell_type": "code",
   "execution_count": 77,
   "id": "12b7f4e9-ee9d-470f-a410-88390a7f5b31",
   "metadata": {},
   "outputs": [
    {
     "data": {
      "text/html": [
       "<div>\n",
       "<style scoped>\n",
       "    .dataframe tbody tr th:only-of-type {\n",
       "        vertical-align: middle;\n",
       "    }\n",
       "\n",
       "    .dataframe tbody tr th {\n",
       "        vertical-align: top;\n",
       "    }\n",
       "\n",
       "    .dataframe thead th {\n",
       "        text-align: right;\n",
       "    }\n",
       "</style>\n",
       "<table border=\"1\" class=\"dataframe\">\n",
       "  <thead>\n",
       "    <tr style=\"text-align: right;\">\n",
       "      <th></th>\n",
       "      <th>Survived</th>\n",
       "      <th>Parch</th>\n",
       "      <th>Sex</th>\n",
       "    </tr>\n",
       "  </thead>\n",
       "  <tbody>\n",
       "    <tr>\n",
       "      <th>0</th>\n",
       "      <td>0</td>\n",
       "      <td>0</td>\n",
       "      <td>male</td>\n",
       "    </tr>\n",
       "    <tr>\n",
       "      <th>1</th>\n",
       "      <td>1</td>\n",
       "      <td>0</td>\n",
       "      <td>female</td>\n",
       "    </tr>\n",
       "    <tr>\n",
       "      <th>2</th>\n",
       "      <td>1</td>\n",
       "      <td>0</td>\n",
       "      <td>female</td>\n",
       "    </tr>\n",
       "    <tr>\n",
       "      <th>3</th>\n",
       "      <td>1</td>\n",
       "      <td>0</td>\n",
       "      <td>female</td>\n",
       "    </tr>\n",
       "    <tr>\n",
       "      <th>4</th>\n",
       "      <td>0</td>\n",
       "      <td>0</td>\n",
       "      <td>male</td>\n",
       "    </tr>\n",
       "  </tbody>\n",
       "</table>\n",
       "</div>"
      ],
      "text/plain": [
       "   Survived  Parch     Sex\n",
       "0         0      0    male\n",
       "1         1      0  female\n",
       "2         1      0  female\n",
       "3         1      0  female\n",
       "4         0      0    male"
      ]
     },
     "execution_count": 77,
     "metadata": {},
     "output_type": "execute_result"
    }
   ],
   "source": [
    "titanic_parch_sex.head()"
   ]
  },
  {
   "cell_type": "code",
   "execution_count": 78,
   "id": "48c03b81-1b5a-4ec6-807b-1d36422c18ff",
   "metadata": {},
   "outputs": [],
   "source": [
    "titanic_parch_women = titanic_parch_sex[titanic_parch_sex[\"Sex\"]==\"female\"]#女性だけに限定"
   ]
  },
  {
   "cell_type": "code",
   "execution_count": 79,
   "id": "ece535bd-7767-45ff-9743-baba197e8437",
   "metadata": {},
   "outputs": [
    {
     "data": {
      "text/html": [
       "<div>\n",
       "<style scoped>\n",
       "    .dataframe tbody tr th:only-of-type {\n",
       "        vertical-align: middle;\n",
       "    }\n",
       "\n",
       "    .dataframe tbody tr th {\n",
       "        vertical-align: top;\n",
       "    }\n",
       "\n",
       "    .dataframe thead th {\n",
       "        text-align: right;\n",
       "    }\n",
       "</style>\n",
       "<table border=\"1\" class=\"dataframe\">\n",
       "  <thead>\n",
       "    <tr style=\"text-align: right;\">\n",
       "      <th></th>\n",
       "      <th>Survived</th>\n",
       "      <th>Parch</th>\n",
       "      <th>Sex</th>\n",
       "    </tr>\n",
       "  </thead>\n",
       "  <tbody>\n",
       "    <tr>\n",
       "      <th>1</th>\n",
       "      <td>1</td>\n",
       "      <td>0</td>\n",
       "      <td>female</td>\n",
       "    </tr>\n",
       "    <tr>\n",
       "      <th>2</th>\n",
       "      <td>1</td>\n",
       "      <td>0</td>\n",
       "      <td>female</td>\n",
       "    </tr>\n",
       "    <tr>\n",
       "      <th>3</th>\n",
       "      <td>1</td>\n",
       "      <td>0</td>\n",
       "      <td>female</td>\n",
       "    </tr>\n",
       "    <tr>\n",
       "      <th>8</th>\n",
       "      <td>1</td>\n",
       "      <td>2</td>\n",
       "      <td>female</td>\n",
       "    </tr>\n",
       "    <tr>\n",
       "      <th>9</th>\n",
       "      <td>1</td>\n",
       "      <td>0</td>\n",
       "      <td>female</td>\n",
       "    </tr>\n",
       "    <tr>\n",
       "      <th>...</th>\n",
       "      <td>...</td>\n",
       "      <td>...</td>\n",
       "      <td>...</td>\n",
       "    </tr>\n",
       "    <tr>\n",
       "      <th>880</th>\n",
       "      <td>1</td>\n",
       "      <td>1</td>\n",
       "      <td>female</td>\n",
       "    </tr>\n",
       "    <tr>\n",
       "      <th>882</th>\n",
       "      <td>0</td>\n",
       "      <td>0</td>\n",
       "      <td>female</td>\n",
       "    </tr>\n",
       "    <tr>\n",
       "      <th>885</th>\n",
       "      <td>0</td>\n",
       "      <td>5</td>\n",
       "      <td>female</td>\n",
       "    </tr>\n",
       "    <tr>\n",
       "      <th>887</th>\n",
       "      <td>1</td>\n",
       "      <td>0</td>\n",
       "      <td>female</td>\n",
       "    </tr>\n",
       "    <tr>\n",
       "      <th>888</th>\n",
       "      <td>0</td>\n",
       "      <td>2</td>\n",
       "      <td>female</td>\n",
       "    </tr>\n",
       "  </tbody>\n",
       "</table>\n",
       "<p>314 rows × 3 columns</p>\n",
       "</div>"
      ],
      "text/plain": [
       "     Survived  Parch     Sex\n",
       "1           1      0  female\n",
       "2           1      0  female\n",
       "3           1      0  female\n",
       "8           1      2  female\n",
       "9           1      0  female\n",
       "..        ...    ...     ...\n",
       "880         1      1  female\n",
       "882         0      0  female\n",
       "885         0      5  female\n",
       "887         1      0  female\n",
       "888         0      2  female\n",
       "\n",
       "[314 rows x 3 columns]"
      ]
     },
     "execution_count": 79,
     "metadata": {},
     "output_type": "execute_result"
    }
   ],
   "source": [
    "titanic_parch_women"
   ]
  },
  {
   "cell_type": "code",
   "execution_count": 80,
   "id": "fda8c983-ba91-40f1-a26b-08e3f4fe7ee7",
   "metadata": {},
   "outputs": [
    {
     "data": {
      "image/png": "[encoded data removed]",
      "text/plain": [
       "<Figure size 432x288 with 1 Axes>"
      ]
     },
     "metadata": {
      "needs_background": "light"
     },
     "output_type": "display_data"
    }
   ],
   "source": [
    "sns.countplot(x=\"Parch\", hue=\"Survived\", data=titanic_parch_women.drop([\"Sex\"],axis =1))\n",
    "plt.show()#女性のParchがいた場合の生存率を可視化"
   ]
  },
  {
   "cell_type": "code",
   "execution_count": 81,
   "id": "c4579764-0218-4915-ab94-deac56067085",
   "metadata": {},
   "outputs": [],
   "source": [
    "titanic_parch_women_0 = titanic_parch_women[titanic_parch_women[\"Parch\"]==0]#子供、または親が０人の女性のデータを抽出"
   ]
  },
  {
   "cell_type": "code",
   "execution_count": 82,
   "id": "6548903e-63ce-4b06-839d-0a43293a4fb3",
   "metadata": {},
   "outputs": [
    {
     "data": {
      "text/plain": [
       "194"
      ]
     },
     "execution_count": 82,
     "metadata": {},
     "output_type": "execute_result"
    }
   ],
   "source": [
    "len(titanic_parch_women_0)"
   ]
  },
  {
   "cell_type": "code",
   "execution_count": 83,
   "id": "910015fc-a5f9-4974-8bb4-f36514a94280",
   "metadata": {},
   "outputs": [
    {
     "data": {
      "text/plain": [
       "153"
      ]
     },
     "execution_count": 83,
     "metadata": {},
     "output_type": "execute_result"
    }
   ],
   "source": [
    "len(titanic_parch_women_0[titanic_parch_women_0[\"Survived\"]==1])"
   ]
  },
  {
   "cell_type": "code",
   "execution_count": 84,
   "id": "9296ec0f-d020-4839-995e-f20a0862a16f",
   "metadata": {},
   "outputs": [
    {
     "data": {
      "text/plain": [
       "0.788659793814433"
      ]
     },
     "execution_count": 84,
     "metadata": {},
     "output_type": "execute_result"
    }
   ],
   "source": [
    "153/194"
   ]
  },
  {
   "cell_type": "code",
   "execution_count": 85,
   "id": "a27bd329-b00a-4074-bd67-e616eb302e5b",
   "metadata": {},
   "outputs": [],
   "source": [
    "#女性で子供、または親がいない場合の生存率は　78.9%と今までで一番高い。"
   ]
  },
  {
   "cell_type": "code",
   "execution_count": 86,
   "id": "bb8d7ff4-02a9-42f1-ad79-8181429ba9a3",
   "metadata": {},
   "outputs": [],
   "source": [
    "titanic_parch_women_1 = titanic_parch_women[titanic_parch_women[\"Parch\"]==1]#子供、または親が１人の女性のデータを抽出"
   ]
  },
  {
   "cell_type": "code",
   "execution_count": 87,
   "id": "9596abc1-3c8d-413d-bd1a-72017097536b",
   "metadata": {},
   "outputs": [
    {
     "data": {
      "text/plain": [
       "60"
      ]
     },
     "execution_count": 87,
     "metadata": {},
     "output_type": "execute_result"
    }
   ],
   "source": [
    "len(titanic_parch_women_1)"
   ]
  },
  {
   "cell_type": "code",
   "execution_count": 88,
   "id": "0fb81764-113c-4459-b34e-81ae687aecac",
   "metadata": {},
   "outputs": [
    {
     "data": {
      "text/plain": [
       "46"
      ]
     },
     "execution_count": 88,
     "metadata": {},
     "output_type": "execute_result"
    }
   ],
   "source": [
    "len(titanic_parch_women_1[titanic_parch_women_1[\"Survived\"]==1])"
   ]
  },
  {
   "cell_type": "code",
   "execution_count": 89,
   "id": "6c5a9f18-c730-4543-bfc9-8f2d3b1be1b2",
   "metadata": {},
   "outputs": [
    {
     "data": {
      "text/plain": [
       "0.7666666666666667"
      ]
     },
     "execution_count": 89,
     "metadata": {},
     "output_type": "execute_result"
    }
   ],
   "source": [
    "46/60"
   ]
  },
  {
   "cell_type": "code",
   "execution_count": 90,
   "id": "4ffca268-466a-4787-aea8-e351c8a414a6",
   "metadata": {},
   "outputs": [],
   "source": [
    "#女性で子供、または親がいない場合の生存率は 76.6%とParchがいない場合とさほど変わらない\n",
    "#Parchが子供だと仮定した場合（親と乗船する確率は高くない気がする）、子供と女性の避難の優先度は変わらなかったのかもしれない"
   ]
  },
  {
   "cell_type": "markdown",
   "id": "4f395f62-77af-454a-8fb5-02a344b99aff",
   "metadata": {},
   "source": [
    "### Ticket Number"
   ]
  },
  {
   "cell_type": "code",
   "execution_count": 91,
   "id": "024f241b-5125-4b31-a38c-735a00e53ecb",
   "metadata": {},
   "outputs": [],
   "source": [
    "titanic_tickets = train[[\"Ticket\", \"Survived\", \"Pclass\"]]"
   ]
  },
  {
   "cell_type": "code",
   "execution_count": 92,
   "id": "ff989fe1-fcd4-4f37-b829-1c2069d39fc1",
   "metadata": {},
   "outputs": [
    {
     "data": {
      "text/html": [
       "<div>\n",
       "<style scoped>\n",
       "    .dataframe tbody tr th:only-of-type {\n",
       "        vertical-align: middle;\n",
       "    }\n",
       "\n",
       "    .dataframe tbody tr th {\n",
       "        vertical-align: top;\n",
       "    }\n",
       "\n",
       "    .dataframe thead th {\n",
       "        text-align: right;\n",
       "    }\n",
       "</style>\n",
       "<table border=\"1\" class=\"dataframe\">\n",
       "  <thead>\n",
       "    <tr style=\"text-align: right;\">\n",
       "      <th></th>\n",
       "      <th>Ticket</th>\n",
       "      <th>Survived</th>\n",
       "      <th>Pclass</th>\n",
       "    </tr>\n",
       "  </thead>\n",
       "  <tbody>\n",
       "    <tr>\n",
       "      <th>0</th>\n",
       "      <td>A/5 21171</td>\n",
       "      <td>0</td>\n",
       "      <td>3</td>\n",
       "    </tr>\n",
       "    <tr>\n",
       "      <th>1</th>\n",
       "      <td>PC 17599</td>\n",
       "      <td>1</td>\n",
       "      <td>1</td>\n",
       "    </tr>\n",
       "    <tr>\n",
       "      <th>2</th>\n",
       "      <td>STON/O2. 3101282</td>\n",
       "      <td>1</td>\n",
       "      <td>3</td>\n",
       "    </tr>\n",
       "    <tr>\n",
       "      <th>3</th>\n",
       "      <td>113803</td>\n",
       "      <td>1</td>\n",
       "      <td>1</td>\n",
       "    </tr>\n",
       "    <tr>\n",
       "      <th>4</th>\n",
       "      <td>373450</td>\n",
       "      <td>0</td>\n",
       "      <td>3</td>\n",
       "    </tr>\n",
       "    <tr>\n",
       "      <th>5</th>\n",
       "      <td>330877</td>\n",
       "      <td>0</td>\n",
       "      <td>3</td>\n",
       "    </tr>\n",
       "    <tr>\n",
       "      <th>6</th>\n",
       "      <td>17463</td>\n",
       "      <td>0</td>\n",
       "      <td>1</td>\n",
       "    </tr>\n",
       "    <tr>\n",
       "      <th>7</th>\n",
       "      <td>349909</td>\n",
       "      <td>0</td>\n",
       "      <td>3</td>\n",
       "    </tr>\n",
       "    <tr>\n",
       "      <th>8</th>\n",
       "      <td>347742</td>\n",
       "      <td>1</td>\n",
       "      <td>3</td>\n",
       "    </tr>\n",
       "    <tr>\n",
       "      <th>9</th>\n",
       "      <td>237736</td>\n",
       "      <td>1</td>\n",
       "      <td>2</td>\n",
       "    </tr>\n",
       "    <tr>\n",
       "      <th>10</th>\n",
       "      <td>PP 9549</td>\n",
       "      <td>1</td>\n",
       "      <td>3</td>\n",
       "    </tr>\n",
       "    <tr>\n",
       "      <th>11</th>\n",
       "      <td>113783</td>\n",
       "      <td>1</td>\n",
       "      <td>1</td>\n",
       "    </tr>\n",
       "    <tr>\n",
       "      <th>12</th>\n",
       "      <td>A/5. 2151</td>\n",
       "      <td>0</td>\n",
       "      <td>3</td>\n",
       "    </tr>\n",
       "    <tr>\n",
       "      <th>13</th>\n",
       "      <td>347082</td>\n",
       "      <td>0</td>\n",
       "      <td>3</td>\n",
       "    </tr>\n",
       "    <tr>\n",
       "      <th>14</th>\n",
       "      <td>350406</td>\n",
       "      <td>0</td>\n",
       "      <td>3</td>\n",
       "    </tr>\n",
       "  </tbody>\n",
       "</table>\n",
       "</div>"
      ],
      "text/plain": [
       "              Ticket  Survived  Pclass\n",
       "0          A/5 21171         0       3\n",
       "1           PC 17599         1       1\n",
       "2   STON/O2. 3101282         1       3\n",
       "3             113803         1       1\n",
       "4             373450         0       3\n",
       "5             330877         0       3\n",
       "6              17463         0       1\n",
       "7             349909         0       3\n",
       "8             347742         1       3\n",
       "9             237736         1       2\n",
       "10           PP 9549         1       3\n",
       "11            113783         1       1\n",
       "12         A/5. 2151         0       3\n",
       "13            347082         0       3\n",
       "14            350406         0       3"
      ]
     },
     "execution_count": 92,
     "metadata": {},
     "output_type": "execute_result"
    }
   ],
   "source": [
    "titanic_tickets.head(15)"
   ]
  },
  {
   "cell_type": "code",
   "execution_count": 93,
   "id": "ad2fe9b3-8fb7-4109-a8c2-0f1ade8b1761",
   "metadata": {},
   "outputs": [],
   "source": [
    "#あまり一貫性がないと思われる。後から何か重要だったらちょっと悔しい。だか取り敢えず生存率に影響はないと仮定"
   ]
  },
  {
   "cell_type": "markdown",
   "id": "75386625-a103-428a-816e-bb4b97c0b854",
   "metadata": {},
   "source": [
    "### Fare"
   ]
  },
  {
   "cell_type": "code",
   "execution_count": 94,
   "id": "bc47abe8-b038-4339-8e1b-996b579bdfc1",
   "metadata": {},
   "outputs": [],
   "source": [
    "titanic_fare = train[[\"Survived\", \"Fare\", \"Pclass\"]]#チケットの値段、生存率、Pclassを抽出"
   ]
  },
  {
   "cell_type": "code",
   "execution_count": 95,
   "id": "8b14c361-7b16-4e03-a225-5de21887ce97",
   "metadata": {},
   "outputs": [
    {
     "data": {
      "text/html": [
       "<div>\n",
       "<style scoped>\n",
       "    .dataframe tbody tr th:only-of-type {\n",
       "        vertical-align: middle;\n",
       "    }\n",
       "\n",
       "    .dataframe tbody tr th {\n",
       "        vertical-align: top;\n",
       "    }\n",
       "\n",
       "    .dataframe thead th {\n",
       "        text-align: right;\n",
       "    }\n",
       "</style>\n",
       "<table border=\"1\" class=\"dataframe\">\n",
       "  <thead>\n",
       "    <tr style=\"text-align: right;\">\n",
       "      <th></th>\n",
       "      <th>Survived</th>\n",
       "      <th>Fare</th>\n",
       "      <th>Pclass</th>\n",
       "    </tr>\n",
       "  </thead>\n",
       "  <tbody>\n",
       "    <tr>\n",
       "      <th>0</th>\n",
       "      <td>0</td>\n",
       "      <td>7.2500</td>\n",
       "      <td>3</td>\n",
       "    </tr>\n",
       "    <tr>\n",
       "      <th>1</th>\n",
       "      <td>1</td>\n",
       "      <td>71.2833</td>\n",
       "      <td>1</td>\n",
       "    </tr>\n",
       "    <tr>\n",
       "      <th>2</th>\n",
       "      <td>1</td>\n",
       "      <td>7.9250</td>\n",
       "      <td>3</td>\n",
       "    </tr>\n",
       "    <tr>\n",
       "      <th>3</th>\n",
       "      <td>1</td>\n",
       "      <td>53.1000</td>\n",
       "      <td>1</td>\n",
       "    </tr>\n",
       "    <tr>\n",
       "      <th>4</th>\n",
       "      <td>0</td>\n",
       "      <td>8.0500</td>\n",
       "      <td>3</td>\n",
       "    </tr>\n",
       "    <tr>\n",
       "      <th>...</th>\n",
       "      <td>...</td>\n",
       "      <td>...</td>\n",
       "      <td>...</td>\n",
       "    </tr>\n",
       "    <tr>\n",
       "      <th>886</th>\n",
       "      <td>0</td>\n",
       "      <td>13.0000</td>\n",
       "      <td>2</td>\n",
       "    </tr>\n",
       "    <tr>\n",
       "      <th>887</th>\n",
       "      <td>1</td>\n",
       "      <td>30.0000</td>\n",
       "      <td>1</td>\n",
       "    </tr>\n",
       "    <tr>\n",
       "      <th>888</th>\n",
       "      <td>0</td>\n",
       "      <td>23.4500</td>\n",
       "      <td>3</td>\n",
       "    </tr>\n",
       "    <tr>\n",
       "      <th>889</th>\n",
       "      <td>1</td>\n",
       "      <td>30.0000</td>\n",
       "      <td>1</td>\n",
       "    </tr>\n",
       "    <tr>\n",
       "      <th>890</th>\n",
       "      <td>0</td>\n",
       "      <td>7.7500</td>\n",
       "      <td>3</td>\n",
       "    </tr>\n",
       "  </tbody>\n",
       "</table>\n",
       "<p>891 rows × 3 columns</p>\n",
       "</div>"
      ],
      "text/plain": [
       "     Survived     Fare  Pclass\n",
       "0           0   7.2500       3\n",
       "1           1  71.2833       1\n",
       "2           1   7.9250       3\n",
       "3           1  53.1000       1\n",
       "4           0   8.0500       3\n",
       "..        ...      ...     ...\n",
       "886         0  13.0000       2\n",
       "887         1  30.0000       1\n",
       "888         0  23.4500       3\n",
       "889         1  30.0000       1\n",
       "890         0   7.7500       3\n",
       "\n",
       "[891 rows x 3 columns]"
      ]
     },
     "execution_count": 95,
     "metadata": {},
     "output_type": "execute_result"
    }
   ],
   "source": [
    "titanic_fare"
   ]
  },
  {
   "cell_type": "code",
   "execution_count": 96,
   "id": "31d76202-7b87-4be8-9472-c83a47b40ec8",
   "metadata": {},
   "outputs": [],
   "source": [
    "titanic_fare_sorted = titanic_fare.sort_values(\"Fare\", ascending = False)"
   ]
  },
  {
   "cell_type": "code",
   "execution_count": 97,
   "id": "5981fec7-8cc9-46a6-a37c-9d02964af559",
   "metadata": {},
   "outputs": [
    {
     "data": {
      "text/html": [
       "<div>\n",
       "<style scoped>\n",
       "    .dataframe tbody tr th:only-of-type {\n",
       "        vertical-align: middle;\n",
       "    }\n",
       "\n",
       "    .dataframe tbody tr th {\n",
       "        vertical-align: top;\n",
       "    }\n",
       "\n",
       "    .dataframe thead th {\n",
       "        text-align: right;\n",
       "    }\n",
       "</style>\n",
       "<table border=\"1\" class=\"dataframe\">\n",
       "  <thead>\n",
       "    <tr style=\"text-align: right;\">\n",
       "      <th></th>\n",
       "      <th>Survived</th>\n",
       "      <th>Fare</th>\n",
       "      <th>Pclass</th>\n",
       "    </tr>\n",
       "  </thead>\n",
       "  <tbody>\n",
       "    <tr>\n",
       "      <th>258</th>\n",
       "      <td>1</td>\n",
       "      <td>512.3292</td>\n",
       "      <td>1</td>\n",
       "    </tr>\n",
       "    <tr>\n",
       "      <th>737</th>\n",
       "      <td>1</td>\n",
       "      <td>512.3292</td>\n",
       "      <td>1</td>\n",
       "    </tr>\n",
       "    <tr>\n",
       "      <th>679</th>\n",
       "      <td>1</td>\n",
       "      <td>512.3292</td>\n",
       "      <td>1</td>\n",
       "    </tr>\n",
       "    <tr>\n",
       "      <th>88</th>\n",
       "      <td>1</td>\n",
       "      <td>263.0000</td>\n",
       "      <td>1</td>\n",
       "    </tr>\n",
       "    <tr>\n",
       "      <th>27</th>\n",
       "      <td>0</td>\n",
       "      <td>263.0000</td>\n",
       "      <td>1</td>\n",
       "    </tr>\n",
       "    <tr>\n",
       "      <th>341</th>\n",
       "      <td>1</td>\n",
       "      <td>263.0000</td>\n",
       "      <td>1</td>\n",
       "    </tr>\n",
       "    <tr>\n",
       "      <th>438</th>\n",
       "      <td>0</td>\n",
       "      <td>263.0000</td>\n",
       "      <td>1</td>\n",
       "    </tr>\n",
       "    <tr>\n",
       "      <th>311</th>\n",
       "      <td>1</td>\n",
       "      <td>262.3750</td>\n",
       "      <td>1</td>\n",
       "    </tr>\n",
       "    <tr>\n",
       "      <th>742</th>\n",
       "      <td>1</td>\n",
       "      <td>262.3750</td>\n",
       "      <td>1</td>\n",
       "    </tr>\n",
       "    <tr>\n",
       "      <th>118</th>\n",
       "      <td>0</td>\n",
       "      <td>247.5208</td>\n",
       "      <td>1</td>\n",
       "    </tr>\n",
       "    <tr>\n",
       "      <th>299</th>\n",
       "      <td>1</td>\n",
       "      <td>247.5208</td>\n",
       "      <td>1</td>\n",
       "    </tr>\n",
       "    <tr>\n",
       "      <th>557</th>\n",
       "      <td>0</td>\n",
       "      <td>227.5250</td>\n",
       "      <td>1</td>\n",
       "    </tr>\n",
       "    <tr>\n",
       "      <th>700</th>\n",
       "      <td>1</td>\n",
       "      <td>227.5250</td>\n",
       "      <td>1</td>\n",
       "    </tr>\n",
       "    <tr>\n",
       "      <th>380</th>\n",
       "      <td>1</td>\n",
       "      <td>227.5250</td>\n",
       "      <td>1</td>\n",
       "    </tr>\n",
       "    <tr>\n",
       "      <th>716</th>\n",
       "      <td>1</td>\n",
       "      <td>227.5250</td>\n",
       "      <td>1</td>\n",
       "    </tr>\n",
       "  </tbody>\n",
       "</table>\n",
       "</div>"
      ],
      "text/plain": [
       "     Survived      Fare  Pclass\n",
       "258         1  512.3292       1\n",
       "737         1  512.3292       1\n",
       "679         1  512.3292       1\n",
       "88          1  263.0000       1\n",
       "27          0  263.0000       1\n",
       "341         1  263.0000       1\n",
       "438         0  263.0000       1\n",
       "311         1  262.3750       1\n",
       "742         1  262.3750       1\n",
       "118         0  247.5208       1\n",
       "299         1  247.5208       1\n",
       "557         0  227.5250       1\n",
       "700         1  227.5250       1\n",
       "380         1  227.5250       1\n",
       "716         1  227.5250       1"
      ]
     },
     "execution_count": 97,
     "metadata": {},
     "output_type": "execute_result"
    }
   ],
   "source": [
    "titanic_fare_sorted.head(15)"
   ]
  },
  {
   "cell_type": "code",
   "execution_count": 98,
   "id": "8cfd840e-e2bb-409e-b808-4aa72357cb25",
   "metadata": {},
   "outputs": [],
   "source": [
    "#チケットの値段とPclassが関係していることからPclassと同じような結果が予想される"
   ]
  },
  {
   "cell_type": "code",
   "execution_count": 99,
   "id": "904401a0-ae09-4f96-b793-f0518731dfa8",
   "metadata": {},
   "outputs": [
    {
     "data": {
      "text/html": [
       "<div>\n",
       "<style scoped>\n",
       "    .dataframe tbody tr th:only-of-type {\n",
       "        vertical-align: middle;\n",
       "    }\n",
       "\n",
       "    .dataframe tbody tr th {\n",
       "        vertical-align: top;\n",
       "    }\n",
       "\n",
       "    .dataframe thead th {\n",
       "        text-align: right;\n",
       "    }\n",
       "</style>\n",
       "<table border=\"1\" class=\"dataframe\">\n",
       "  <thead>\n",
       "    <tr style=\"text-align: right;\">\n",
       "      <th></th>\n",
       "      <th>Survived</th>\n",
       "      <th>Fare</th>\n",
       "      <th>Pclass</th>\n",
       "    </tr>\n",
       "  </thead>\n",
       "  <tbody>\n",
       "    <tr>\n",
       "      <th>count</th>\n",
       "      <td>891.000000</td>\n",
       "      <td>891.000000</td>\n",
       "      <td>891.000000</td>\n",
       "    </tr>\n",
       "    <tr>\n",
       "      <th>mean</th>\n",
       "      <td>0.383838</td>\n",
       "      <td>32.204208</td>\n",
       "      <td>2.308642</td>\n",
       "    </tr>\n",
       "    <tr>\n",
       "      <th>std</th>\n",
       "      <td>0.486592</td>\n",
       "      <td>49.693429</td>\n",
       "      <td>0.836071</td>\n",
       "    </tr>\n",
       "    <tr>\n",
       "      <th>min</th>\n",
       "      <td>0.000000</td>\n",
       "      <td>0.000000</td>\n",
       "      <td>1.000000</td>\n",
       "    </tr>\n",
       "    <tr>\n",
       "      <th>25%</th>\n",
       "      <td>0.000000</td>\n",
       "      <td>7.910400</td>\n",
       "      <td>2.000000</td>\n",
       "    </tr>\n",
       "    <tr>\n",
       "      <th>50%</th>\n",
       "      <td>0.000000</td>\n",
       "      <td>14.454200</td>\n",
       "      <td>3.000000</td>\n",
       "    </tr>\n",
       "    <tr>\n",
       "      <th>75%</th>\n",
       "      <td>1.000000</td>\n",
       "      <td>31.000000</td>\n",
       "      <td>3.000000</td>\n",
       "    </tr>\n",
       "    <tr>\n",
       "      <th>max</th>\n",
       "      <td>1.000000</td>\n",
       "      <td>512.329200</td>\n",
       "      <td>3.000000</td>\n",
       "    </tr>\n",
       "  </tbody>\n",
       "</table>\n",
       "</div>"
      ],
      "text/plain": [
       "         Survived        Fare      Pclass\n",
       "count  891.000000  891.000000  891.000000\n",
       "mean     0.383838   32.204208    2.308642\n",
       "std      0.486592   49.693429    0.836071\n",
       "min      0.000000    0.000000    1.000000\n",
       "25%      0.000000    7.910400    2.000000\n",
       "50%      0.000000   14.454200    3.000000\n",
       "75%      1.000000   31.000000    3.000000\n",
       "max      1.000000  512.329200    3.000000"
      ]
     },
     "execution_count": 99,
     "metadata": {},
     "output_type": "execute_result"
    }
   ],
   "source": [
    "titanic_fare_sorted.describe()"
   ]
  },
  {
   "cell_type": "code",
   "execution_count": 100,
   "id": "240b6fd0-d396-4487-b641-6f8672027b91",
   "metadata": {},
   "outputs": [],
   "source": [
    "#チケット代の平均が 32.2で最高額が 512。"
   ]
  },
  {
   "cell_type": "code",
   "execution_count": 101,
   "id": "fa56f269-2d38-48c5-be3d-da6bfda0c137",
   "metadata": {},
   "outputs": [
    {
     "data": {
      "text/html": [
       "<div>\n",
       "<style scoped>\n",
       "    .dataframe tbody tr th:only-of-type {\n",
       "        vertical-align: middle;\n",
       "    }\n",
       "\n",
       "    .dataframe tbody tr th {\n",
       "        vertical-align: top;\n",
       "    }\n",
       "\n",
       "    .dataframe thead th {\n",
       "        text-align: right;\n",
       "    }\n",
       "</style>\n",
       "<table border=\"1\" class=\"dataframe\">\n",
       "  <thead>\n",
       "    <tr style=\"text-align: right;\">\n",
       "      <th>Fare</th>\n",
       "      <th>False</th>\n",
       "      <th>True</th>\n",
       "    </tr>\n",
       "    <tr>\n",
       "      <th>Survived</th>\n",
       "      <th></th>\n",
       "      <th></th>\n",
       "    </tr>\n",
       "  </thead>\n",
       "  <tbody>\n",
       "    <tr>\n",
       "      <th>False</th>\n",
       "      <td>464</td>\n",
       "      <td>85</td>\n",
       "    </tr>\n",
       "    <tr>\n",
       "      <th>True</th>\n",
       "      <td>216</td>\n",
       "      <td>126</td>\n",
       "    </tr>\n",
       "  </tbody>\n",
       "</table>\n",
       "</div>"
      ],
      "text/plain": [
       "Fare      False  True \n",
       "Survived              \n",
       "False       464     85\n",
       "True        216    126"
      ]
     },
     "execution_count": 101,
     "metadata": {},
     "output_type": "execute_result"
    }
   ],
   "source": [
    "pd.crosstab(train[\"Survived\"]==1, train[\"Fare\"]>=32)#チケット代に合わせた生存率を計算"
   ]
  },
  {
   "cell_type": "code",
   "execution_count": 102,
   "id": "679a9fa8-2dd5-4762-973d-68bc34809e2b",
   "metadata": {},
   "outputs": [
    {
     "data": {
      "text/plain": [
       "0.5971563981042654"
      ]
     },
     "execution_count": 102,
     "metadata": {},
     "output_type": "execute_result"
    }
   ],
   "source": [
    "126/211#平均以上のチケット代の人の生存率"
   ]
  },
  {
   "cell_type": "code",
   "execution_count": 103,
   "id": "6fb8a543-2796-4da9-812e-584f7d507d1f",
   "metadata": {},
   "outputs": [
    {
     "data": {
      "text/plain": [
       "0.3176470588235294"
      ]
     },
     "execution_count": 103,
     "metadata": {},
     "output_type": "execute_result"
    }
   ],
   "source": [
    "216/680#平均以下のチケット代の人の生存率"
   ]
  },
  {
   "cell_type": "code",
   "execution_count": 104,
   "id": "75f726be-f6e6-490d-9d4e-46558c2af6f2",
   "metadata": {},
   "outputs": [],
   "source": [
    "#平均以上のチケット代を払った人の方が断然生存率は高い。\n",
    "#しかしこれは半分に分けるだけじゃなく、もっと小さなインクリメントで割ったらもっとわかるかもしれない。"
   ]
  },
  {
   "cell_type": "markdown",
   "id": "76c5b34f-e581-43dd-94e4-a8f1537409ca",
   "metadata": {},
   "source": [
    "### Embarked"
   ]
  },
  {
   "cell_type": "code",
   "execution_count": 105,
   "id": "6850aab0-0076-4181-b50f-4646f80fd5c1",
   "metadata": {},
   "outputs": [],
   "source": [
    "titanic_embarked = train[[\"Survived\",\"Embarked\"]]#乗船した場所と生存率のデータを抽出"
   ]
  },
  {
   "cell_type": "code",
   "execution_count": 106,
   "id": "31524534-4ee0-4975-b0d1-c82aa501155a",
   "metadata": {},
   "outputs": [
    {
     "data": {
      "text/html": [
       "<div>\n",
       "<style scoped>\n",
       "    .dataframe tbody tr th:only-of-type {\n",
       "        vertical-align: middle;\n",
       "    }\n",
       "\n",
       "    .dataframe tbody tr th {\n",
       "        vertical-align: top;\n",
       "    }\n",
       "\n",
       "    .dataframe thead th {\n",
       "        text-align: right;\n",
       "    }\n",
       "</style>\n",
       "<table border=\"1\" class=\"dataframe\">\n",
       "  <thead>\n",
       "    <tr style=\"text-align: right;\">\n",
       "      <th></th>\n",
       "      <th>Survived</th>\n",
       "      <th>Embarked</th>\n",
       "    </tr>\n",
       "  </thead>\n",
       "  <tbody>\n",
       "    <tr>\n",
       "      <th>0</th>\n",
       "      <td>0</td>\n",
       "      <td>S</td>\n",
       "    </tr>\n",
       "    <tr>\n",
       "      <th>1</th>\n",
       "      <td>1</td>\n",
       "      <td>C</td>\n",
       "    </tr>\n",
       "    <tr>\n",
       "      <th>2</th>\n",
       "      <td>1</td>\n",
       "      <td>S</td>\n",
       "    </tr>\n",
       "    <tr>\n",
       "      <th>3</th>\n",
       "      <td>1</td>\n",
       "      <td>S</td>\n",
       "    </tr>\n",
       "    <tr>\n",
       "      <th>4</th>\n",
       "      <td>0</td>\n",
       "      <td>S</td>\n",
       "    </tr>\n",
       "  </tbody>\n",
       "</table>\n",
       "</div>"
      ],
      "text/plain": [
       "   Survived Embarked\n",
       "0         0        S\n",
       "1         1        C\n",
       "2         1        S\n",
       "3         1        S\n",
       "4         0        S"
      ]
     },
     "execution_count": 106,
     "metadata": {},
     "output_type": "execute_result"
    }
   ],
   "source": [
    "titanic_embarked.head()"
   ]
  },
  {
   "cell_type": "code",
   "execution_count": 107,
   "id": "84ad7ce3-4770-4f9c-8129-c284e4af3250",
   "metadata": {},
   "outputs": [
    {
     "data": {
      "text/html": [
       "<div>\n",
       "<style scoped>\n",
       "    .dataframe tbody tr th:only-of-type {\n",
       "        vertical-align: middle;\n",
       "    }\n",
       "\n",
       "    .dataframe tbody tr th {\n",
       "        vertical-align: top;\n",
       "    }\n",
       "\n",
       "    .dataframe thead th {\n",
       "        text-align: right;\n",
       "    }\n",
       "</style>\n",
       "<table border=\"1\" class=\"dataframe\">\n",
       "  <thead>\n",
       "    <tr style=\"text-align: right;\">\n",
       "      <th>Embarked</th>\n",
       "      <th>C</th>\n",
       "      <th>Q</th>\n",
       "      <th>S</th>\n",
       "    </tr>\n",
       "    <tr>\n",
       "      <th>Survived</th>\n",
       "      <th></th>\n",
       "      <th></th>\n",
       "      <th></th>\n",
       "    </tr>\n",
       "  </thead>\n",
       "  <tbody>\n",
       "    <tr>\n",
       "      <th>False</th>\n",
       "      <td>75</td>\n",
       "      <td>47</td>\n",
       "      <td>427</td>\n",
       "    </tr>\n",
       "    <tr>\n",
       "      <th>True</th>\n",
       "      <td>93</td>\n",
       "      <td>30</td>\n",
       "      <td>217</td>\n",
       "    </tr>\n",
       "  </tbody>\n",
       "</table>\n",
       "</div>"
      ],
      "text/plain": [
       "Embarked   C   Q    S\n",
       "Survived             \n",
       "False     75  47  427\n",
       "True      93  30  217"
      ]
     },
     "execution_count": 107,
     "metadata": {},
     "output_type": "execute_result"
    }
   ],
   "source": [
    "pd.crosstab(titanic_embarked[\"Survived\"]==1, titanic_embarked[\"Embarked\"])#乗船した場所に応じての生存率"
   ]
  },
  {
   "cell_type": "code",
   "execution_count": 108,
   "id": "1c0ce4ff-833d-415f-8a37-b15ffa0653a0",
   "metadata": {},
   "outputs": [
    {
     "data": {
      "text/plain": [
       "0.33695652173913043"
      ]
     },
     "execution_count": 108,
     "metadata": {},
     "output_type": "execute_result"
    }
   ],
   "source": [
    "217/644"
   ]
  },
  {
   "cell_type": "code",
   "execution_count": 109,
   "id": "f82ab4a9-22f8-4972-bbe0-5963c02ed15f",
   "metadata": {},
   "outputs": [],
   "source": [
    "#South hampton(S)で乗船した人の生存率は 33.7%"
   ]
  },
  {
   "cell_type": "code",
   "execution_count": 110,
   "id": "8972f952-c07f-4d74-a662-c5aa1f832bff",
   "metadata": {},
   "outputs": [
    {
     "data": {
      "text/plain": [
       "0.38961038961038963"
      ]
     },
     "execution_count": 110,
     "metadata": {},
     "output_type": "execute_result"
    }
   ],
   "source": [
    "30/77"
   ]
  },
  {
   "cell_type": "code",
   "execution_count": 111,
   "id": "196cbe22-46db-4add-ba84-850e0c2a9826",
   "metadata": {},
   "outputs": [],
   "source": [
    "#Queenstown(Q)で乗船した人の生存率は 39.0%#South hampton(S)で乗船した人の生存率は 33.7%"
   ]
  },
  {
   "cell_type": "code",
   "execution_count": 112,
   "id": "1f1137db-54f0-4e13-9429-a4e672c8145a",
   "metadata": {},
   "outputs": [
    {
     "data": {
      "text/plain": [
       "0.5535714285714286"
      ]
     },
     "execution_count": 112,
     "metadata": {},
     "output_type": "execute_result"
    }
   ],
   "source": [
    "93/168"
   ]
  },
  {
   "cell_type": "code",
   "execution_count": 113,
   "id": "0451e85d-a2ab-48ed-9b3f-82e29be34b56",
   "metadata": {},
   "outputs": [],
   "source": [
    "#Cherbourg(C)で乗船した人の生存率は 55.4%"
   ]
  },
  {
   "cell_type": "code",
   "execution_count": 114,
   "id": "13c61533-b95d-4dd3-96e5-a28e5968097b",
   "metadata": {},
   "outputs": [],
   "source": [
    "#結果的にCherbourgで乗船した人の生存率が圧倒的に高いので、他に関連するかもしれないカテゴリーを使い見比べる"
   ]
  },
  {
   "cell_type": "code",
   "execution_count": 115,
   "id": "abf6754a-5a0d-4815-9f2d-57c8d5e372f7",
   "metadata": {},
   "outputs": [],
   "source": [
    "titanic_embarked_fare = train[[\"Embarked\",\"Fare\"]]#乗船した場所とチケットの値段のデータを抽出"
   ]
  },
  {
   "cell_type": "code",
   "execution_count": 116,
   "id": "03e7120a-be22-4665-b261-0db22c2e4a96",
   "metadata": {},
   "outputs": [
    {
     "data": {
      "text/html": [
       "<div>\n",
       "<style scoped>\n",
       "    .dataframe tbody tr th:only-of-type {\n",
       "        vertical-align: middle;\n",
       "    }\n",
       "\n",
       "    .dataframe tbody tr th {\n",
       "        vertical-align: top;\n",
       "    }\n",
       "\n",
       "    .dataframe thead th {\n",
       "        text-align: right;\n",
       "    }\n",
       "</style>\n",
       "<table border=\"1\" class=\"dataframe\">\n",
       "  <thead>\n",
       "    <tr style=\"text-align: right;\">\n",
       "      <th></th>\n",
       "      <th>Embarked</th>\n",
       "      <th>Fare</th>\n",
       "    </tr>\n",
       "  </thead>\n",
       "  <tbody>\n",
       "    <tr>\n",
       "      <th>0</th>\n",
       "      <td>S</td>\n",
       "      <td>7.2500</td>\n",
       "    </tr>\n",
       "    <tr>\n",
       "      <th>1</th>\n",
       "      <td>C</td>\n",
       "      <td>71.2833</td>\n",
       "    </tr>\n",
       "    <tr>\n",
       "      <th>2</th>\n",
       "      <td>S</td>\n",
       "      <td>7.9250</td>\n",
       "    </tr>\n",
       "    <tr>\n",
       "      <th>3</th>\n",
       "      <td>S</td>\n",
       "      <td>53.1000</td>\n",
       "    </tr>\n",
       "    <tr>\n",
       "      <th>4</th>\n",
       "      <td>S</td>\n",
       "      <td>8.0500</td>\n",
       "    </tr>\n",
       "  </tbody>\n",
       "</table>\n",
       "</div>"
      ],
      "text/plain": [
       "  Embarked     Fare\n",
       "0        S   7.2500\n",
       "1        C  71.2833\n",
       "2        S   7.9250\n",
       "3        S  53.1000\n",
       "4        S   8.0500"
      ]
     },
     "execution_count": 116,
     "metadata": {},
     "output_type": "execute_result"
    }
   ],
   "source": [
    "titanic_embarked_fare.head()"
   ]
  },
  {
   "cell_type": "code",
   "execution_count": 117,
   "id": "ca87337d-35f3-498d-9a25-03f47a39aaf3",
   "metadata": {},
   "outputs": [],
   "source": [
    "titanic_embarked_C = titanic_embarked_fare[titanic_embarked_fare[\"Embarked\"]==\"C\"]#Cherbourgの客だけを抽出"
   ]
  },
  {
   "cell_type": "code",
   "execution_count": 118,
   "id": "a7a107bd-88d5-4b56-b6f8-2e4756b4e1b5",
   "metadata": {},
   "outputs": [
    {
     "data": {
      "text/html": [
       "<div>\n",
       "<style scoped>\n",
       "    .dataframe tbody tr th:only-of-type {\n",
       "        vertical-align: middle;\n",
       "    }\n",
       "\n",
       "    .dataframe tbody tr th {\n",
       "        vertical-align: top;\n",
       "    }\n",
       "\n",
       "    .dataframe thead th {\n",
       "        text-align: right;\n",
       "    }\n",
       "</style>\n",
       "<table border=\"1\" class=\"dataframe\">\n",
       "  <thead>\n",
       "    <tr style=\"text-align: right;\">\n",
       "      <th></th>\n",
       "      <th>Fare</th>\n",
       "    </tr>\n",
       "  </thead>\n",
       "  <tbody>\n",
       "    <tr>\n",
       "      <th>count</th>\n",
       "      <td>168.000000</td>\n",
       "    </tr>\n",
       "    <tr>\n",
       "      <th>mean</th>\n",
       "      <td>59.954144</td>\n",
       "    </tr>\n",
       "    <tr>\n",
       "      <th>std</th>\n",
       "      <td>83.912994</td>\n",
       "    </tr>\n",
       "    <tr>\n",
       "      <th>min</th>\n",
       "      <td>4.012500</td>\n",
       "    </tr>\n",
       "    <tr>\n",
       "      <th>25%</th>\n",
       "      <td>13.697950</td>\n",
       "    </tr>\n",
       "    <tr>\n",
       "      <th>50%</th>\n",
       "      <td>29.700000</td>\n",
       "    </tr>\n",
       "    <tr>\n",
       "      <th>75%</th>\n",
       "      <td>78.500025</td>\n",
       "    </tr>\n",
       "    <tr>\n",
       "      <th>max</th>\n",
       "      <td>512.329200</td>\n",
       "    </tr>\n",
       "  </tbody>\n",
       "</table>\n",
       "</div>"
      ],
      "text/plain": [
       "             Fare\n",
       "count  168.000000\n",
       "mean    59.954144\n",
       "std     83.912994\n",
       "min      4.012500\n",
       "25%     13.697950\n",
       "50%     29.700000\n",
       "75%     78.500025\n",
       "max    512.329200"
      ]
     },
     "execution_count": 118,
     "metadata": {},
     "output_type": "execute_result"
    }
   ],
   "source": [
    "titanic_embarked_C.describe()"
   ]
  },
  {
   "cell_type": "code",
   "execution_count": 119,
   "id": "e8ad8b96-feaf-44c2-a82d-f804cd1fca8c",
   "metadata": {},
   "outputs": [],
   "source": [
    "#チケット代の平均が 59.95と全体の平均よりだいぶ高い。乗船した場所よりは、Cherbourgで乗った人にお金持ちが多かっただけかもしれない"
   ]
  },
  {
   "cell_type": "code",
   "execution_count": 120,
   "id": "69867d5d-585d-4165-bd86-91cec9ab3001",
   "metadata": {},
   "outputs": [],
   "source": [
    "titanic_embarked_S = titanic_embarked_fare[titanic_embarked_fare[\"Embarked\"]==\"S\"]#South hamptonの客だけを抽出"
   ]
  },
  {
   "cell_type": "code",
   "execution_count": 121,
   "id": "9edb32f4-e3a4-41e8-8bd9-425b3a34b057",
   "metadata": {},
   "outputs": [
    {
     "data": {
      "text/html": [
       "<div>\n",
       "<style scoped>\n",
       "    .dataframe tbody tr th:only-of-type {\n",
       "        vertical-align: middle;\n",
       "    }\n",
       "\n",
       "    .dataframe tbody tr th {\n",
       "        vertical-align: top;\n",
       "    }\n",
       "\n",
       "    .dataframe thead th {\n",
       "        text-align: right;\n",
       "    }\n",
       "</style>\n",
       "<table border=\"1\" class=\"dataframe\">\n",
       "  <thead>\n",
       "    <tr style=\"text-align: right;\">\n",
       "      <th></th>\n",
       "      <th>Fare</th>\n",
       "    </tr>\n",
       "  </thead>\n",
       "  <tbody>\n",
       "    <tr>\n",
       "      <th>count</th>\n",
       "      <td>644.000000</td>\n",
       "    </tr>\n",
       "    <tr>\n",
       "      <th>mean</th>\n",
       "      <td>27.079812</td>\n",
       "    </tr>\n",
       "    <tr>\n",
       "      <th>std</th>\n",
       "      <td>35.887993</td>\n",
       "    </tr>\n",
       "    <tr>\n",
       "      <th>min</th>\n",
       "      <td>0.000000</td>\n",
       "    </tr>\n",
       "    <tr>\n",
       "      <th>25%</th>\n",
       "      <td>8.050000</td>\n",
       "    </tr>\n",
       "    <tr>\n",
       "      <th>50%</th>\n",
       "      <td>13.000000</td>\n",
       "    </tr>\n",
       "    <tr>\n",
       "      <th>75%</th>\n",
       "      <td>27.900000</td>\n",
       "    </tr>\n",
       "    <tr>\n",
       "      <th>max</th>\n",
       "      <td>263.000000</td>\n",
       "    </tr>\n",
       "  </tbody>\n",
       "</table>\n",
       "</div>"
      ],
      "text/plain": [
       "             Fare\n",
       "count  644.000000\n",
       "mean    27.079812\n",
       "std     35.887993\n",
       "min      0.000000\n",
       "25%      8.050000\n",
       "50%     13.000000\n",
       "75%     27.900000\n",
       "max    263.000000"
      ]
     },
     "execution_count": 121,
     "metadata": {},
     "output_type": "execute_result"
    }
   ],
   "source": [
    "titanic_embarked_S.describe()"
   ]
  },
  {
   "cell_type": "code",
   "execution_count": 122,
   "id": "dc5e081a-ffb2-4486-934a-220c31cc549c",
   "metadata": {},
   "outputs": [],
   "source": [
    "titanic_embarked_Q = titanic_embarked_fare[titanic_embarked_fare[\"Embarked\"]==\"Q\"]#Queenstownの客だけを抽出"
   ]
  },
  {
   "cell_type": "code",
   "execution_count": 123,
   "id": "7f8988a5-f9b1-4c63-ac11-9f66741c1244",
   "metadata": {},
   "outputs": [
    {
     "data": {
      "text/html": [
       "<div>\n",
       "<style scoped>\n",
       "    .dataframe tbody tr th:only-of-type {\n",
       "        vertical-align: middle;\n",
       "    }\n",
       "\n",
       "    .dataframe tbody tr th {\n",
       "        vertical-align: top;\n",
       "    }\n",
       "\n",
       "    .dataframe thead th {\n",
       "        text-align: right;\n",
       "    }\n",
       "</style>\n",
       "<table border=\"1\" class=\"dataframe\">\n",
       "  <thead>\n",
       "    <tr style=\"text-align: right;\">\n",
       "      <th></th>\n",
       "      <th>Fare</th>\n",
       "    </tr>\n",
       "  </thead>\n",
       "  <tbody>\n",
       "    <tr>\n",
       "      <th>count</th>\n",
       "      <td>77.000000</td>\n",
       "    </tr>\n",
       "    <tr>\n",
       "      <th>mean</th>\n",
       "      <td>13.276030</td>\n",
       "    </tr>\n",
       "    <tr>\n",
       "      <th>std</th>\n",
       "      <td>14.188047</td>\n",
       "    </tr>\n",
       "    <tr>\n",
       "      <th>min</th>\n",
       "      <td>6.750000</td>\n",
       "    </tr>\n",
       "    <tr>\n",
       "      <th>25%</th>\n",
       "      <td>7.750000</td>\n",
       "    </tr>\n",
       "    <tr>\n",
       "      <th>50%</th>\n",
       "      <td>7.750000</td>\n",
       "    </tr>\n",
       "    <tr>\n",
       "      <th>75%</th>\n",
       "      <td>15.500000</td>\n",
       "    </tr>\n",
       "    <tr>\n",
       "      <th>max</th>\n",
       "      <td>90.000000</td>\n",
       "    </tr>\n",
       "  </tbody>\n",
       "</table>\n",
       "</div>"
      ],
      "text/plain": [
       "            Fare\n",
       "count  77.000000\n",
       "mean   13.276030\n",
       "std    14.188047\n",
       "min     6.750000\n",
       "25%     7.750000\n",
       "50%     7.750000\n",
       "75%    15.500000\n",
       "max    90.000000"
      ]
     },
     "execution_count": 123,
     "metadata": {},
     "output_type": "execute_result"
    }
   ],
   "source": [
    "titanic_embarked_Q.describe()"
   ]
  },
  {
   "cell_type": "code",
   "execution_count": 124,
   "id": "f57f9905-f817-4d62-abf2-4e178eca6ddb",
   "metadata": {},
   "outputs": [],
   "source": [
    "#Cherbourg(C)で乗船した人の生存率は 55.4%。チケット代の平均が　59.95\n",
    "#Queenstown(Q)で乗船した人の生存率は 39.0%。チケット代の平均が　27.07\n",
    "#South hampton(S)で乗船した人の生存率は 33.7%。チケット代の平均が　13.3"
   ]
  },
  {
   "cell_type": "code",
   "execution_count": 126,
   "id": "2e82ba4b-374d-4e2e-a285-7f7cfd32851f",
   "metadata": {},
   "outputs": [],
   "source": [
    "#結果的に乗船した場所は関係なく、チケット代に左右されていただけであった"
   ]
  },
  {
   "cell_type": "markdown",
   "id": "7b04402e-fe41-4dfd-af4c-7fe62f9c1f9a",
   "metadata": {},
   "source": [
    "# 結果"
   ]
  },
  {
   "cell_type": "code",
   "execution_count": 132,
   "id": "c3dd0823-941f-44dd-8355-b8a44f6cdeb1",
   "metadata": {},
   "outputs": [],
   "source": [
    "# Pclass: \n",
    "#    Pclassが低い方が明らかに生存率は高い(1 > 2 > 3)。\n",
    "#    Pclassが低い方が優先されたか、高いPclassだと部屋が船の下の方にあり逃げ遅れたのかもしれない\n",
    "\n",
    "# Sex: \n",
    "#    女性の方が明らかに生存率は高い。救命ボートに乗る際に優先されたと思われる\n",
    "\n",
    "# Age\n",
    "#    生存者の平均年齢はの方がわずかだが死者の平均年齢より低かった。\n",
    "#    しかし、これは年寄りほど助かりづらいと言うよりは子供の生存率が圧倒的に高い\n",
    "#    子供(１３歳以下）の生存率は 59%。全体の生存率は38%　\n",
    "#    ５歳以下の子供に限定すると生存率は　70.4%とさらに上がった。小さな子供の避難を優先していたと思われる \n",
    "\n",
    "#SibSp\n",
    "#    結果的に兄弟、または配偶者が1人の場合の生存率が一番高い\n",
    "#    兄弟、または配偶者が０人だった場合の生存率は 34.5%\n",
    "#    兄弟、または配偶者が２人以上の場合の生存率は　27.0%と1人の場合よりかなり低い。全員助かろうとしたしたせいで生存率が低いのかもしれない\n",
    "\n",
    "#Parch\n",
    "#    親、または子供が１人の場合の生存率は 55.1%。Parchがいない人よりかなり高い\n",
    "#    親、または子供が０人の場合の生存率は 34.3%\n",
    "#    女性でParch = 0とParch = 1の生存率を比較したところ、生存率はほぼ同じだった\n",
    "#    このことから、子供と女性の避難の優先度は変わらなかったのかもしれない\n",
    "#    上記の計算はParchが子供だと仮定した（親と乗船する確率は高くない気がする）\n",
    "\n",
    "#Ticket Number\n",
    "#   　あまり一貫性がなく、多分生存率に影響を与えない\n",
    "\n",
    "#Fare\n",
    "#    チケット代の平均以上を払った人の方が断然生存率は高い。これはPclassとも関連していると思われる\n",
    "#    しかしこれは半分に分けるだけじゃなく、もっと小さなインクリメントで割ったらもっとわかるかもしれない。(例えば５０単位)\n",
    "\n",
    "#Embarked\n",
    "#    Cherbourg(C)で乗船した人の生存率が圧倒的に高かった\n",
    "#    だか、調べた結果これはCherbourgで乗った人の多くがお金持ちでいいチケットを買っていたことが原因と思われる\n"
   ]
  },
  {
   "cell_type": "code",
   "execution_count": null,
   "id": "cc603985-b8b3-413a-859e-6adceaa67886",
   "metadata": {},
   "outputs": [],
   "source": []
  }
 ],
 "metadata": {
  "kernelspec": {
   "display_name": "Python 3",
   "language": "python",
   "name": "python3"
  },
  "language_info": {
   "codemirror_mode": {
    "name": "ipython",
    "version": 3
   },
   "file_extension": ".py",
   "mimetype": "text/x-python",
   "name": "python",
   "nbconvert_exporter": "python",
   "pygments_lexer": "ipython3",
   "version": "3.8.8"
  },
  "toc-autonumbering": false,
  "toc-showtags": false
 },
 "nbformat": 4,
 "nbformat_minor": 5
}
